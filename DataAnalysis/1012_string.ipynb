{
 "cells": [
  {
   "cell_type": "markdown",
   "metadata": {},
   "source": [
    "# String"
   ]
  },
  {
   "cell_type": "code",
   "execution_count": null,
   "metadata": {},
   "outputs": [],
   "source": [
    "a = \"Hello\"\n",
    "for i in range(0,len(a)):\n",
    "    print(a[i])"
   ]
  },
  {
   "cell_type": "markdown",
   "metadata": {},
   "source": [
    "## Functions of string, actually, it is \"method\"."
   ]
  },
  {
   "cell_type": "code",
   "execution_count": null,
   "metadata": {},
   "outputs": [],
   "source": [
    "str_example = \"Hello\"\n",
    "list_example = [\"H\",\"e\",\"l\",\"l\",\"o\"]\n",
    "\n",
    "print(len(str_example))\n",
    "print(len(list_example))\n",
    "\n",
    "str_example.upper()\n",
    "list_example.upper()"
   ]
  },
  {
   "cell_type": "markdown",
   "metadata": {},
   "source": [
    "## Useful string manipulations\n",
    "### https://docs.python.org/ko/3/library/stdtypes.html#text-sequence-type-str"
   ]
  },
  {
   "cell_type": "code",
   "execution_count": null,
   "metadata": {
    "collapsed": true,
    "jupyter": {
     "outputs_hidden": true
    },
    "tags": []
   },
   "outputs": [],
   "source": [
    "str_example = \" 수익률 (1M/3M/6M/1Y)/ +4.58%/ -4.78%/ -4.66%/ +34.20%  \"\n",
    "print(str_example)\n",
    "print(\"============\")\n",
    "\n",
    "print(str_example.strip())\n",
    "print(str_example.split())\n",
    "print(str_example.split(\"/\"))\n",
    "\n",
    "# print(str_example.split(\"/ \"))\n",
    "\n",
    "# stripped_str_example = str_example.strip()\n",
    "# print(stripped_str_example.split(\"/ \"))"
   ]
  },
  {
   "cell_type": "markdown",
   "id": "03708c9e",
   "metadata": {},
   "source": [
    "## Lab: word counting"
   ]
  },
  {
   "cell_type": "code",
   "execution_count": null,
   "id": "f975a29b",
   "metadata": {},
   "outputs": [],
   "source": [
    "filename = 'yesterday.txt'\n",
    "\n",
    "target_url = 'https://raw.githubusercontent.com/crazytb/schadvmachinelearning/main/'\n",
    "target_url = target_url + filename"
   ]
  },
  {
   "cell_type": "code",
   "execution_count": null,
   "id": "709ccea8",
   "metadata": {},
   "outputs": [],
   "source": [
    "import urllib\n",
    "lyric = urllib.request.urlopen(target_url).read()\n",
    "lyric = str(lyric)\n",
    "lyric"
   ]
  },
  {
   "cell_type": "code",
   "execution_count": null,
   "id": "5f43b299",
   "metadata": {},
   "outputs": [],
   "source": [
    "n_of_yesterday = lyric.count(\"yesterday\") + lyric.count(\"Yesterday\") + lyric.count(\"YESTERDAY\")\n",
    "# n_of_yesterday = lyric.upper().count(\"YESTERDAY\")"
   ]
  },
  {
   "cell_type": "code",
   "execution_count": null,
   "id": "e30e9c8e",
   "metadata": {},
   "outputs": [],
   "source": [
    "# n_of_yesterday = contents.upper().count(\"YESTERDAY\")\n",
    "print(f\"Number of 'yesterday' is {n_of_yesterday}.\")"
   ]
  },
  {
   "cell_type": "markdown",
   "id": "eb5f1495",
   "metadata": {},
   "source": [
    "### readline() and readlines()"
   ]
  },
  {
   "cell_type": "code",
   "execution_count": 28,
   "id": "7e0e9f7b",
   "metadata": {},
   "outputs": [],
   "source": [
    "f = open('yesterday.txt', 'r')\n",
    "lyric_with_readline = f.readline()\n",
    "lyric_with_readlines = f.readlines()\n",
    "f.close()"
   ]
  },
  {
   "cell_type": "code",
   "execution_count": null,
   "id": "51878f14",
   "metadata": {},
   "outputs": [],
   "source": [
    "type(lyric_with_readline)\n",
    "print(lyric_with_readline)"
   ]
  },
  {
   "cell_type": "code",
   "execution_count": null,
   "id": "13b5b28c",
   "metadata": {},
   "outputs": [],
   "source": [
    "type(lyric_with_readlines)\n",
    "print(lyric_with_readlines)"
   ]
  },
  {
   "cell_type": "code",
   "execution_count": null,
   "id": "06fa0916",
   "metadata": {},
   "outputs": [],
   "source": [
    "f = open('yesterday.txt', 'r')\n",
    "while True:\n",
    "    line = f.readline()\n",
    "    if not line:\n",
    "        break\n",
    "    print(line)\n",
    "f.close()"
   ]
  },
  {
   "cell_type": "markdown",
   "id": "e842a632",
   "metadata": {},
   "source": [
    "## Formatting and literal"
   ]
  },
  {
   "cell_type": "markdown",
   "id": "eb0bf9a4",
   "metadata": {},
   "source": [
    "### Find \"포맷 문자열 문법\"\n",
    "<https://docs.python.org/ko/3.7/whatsnew/2.6.html#pep-3101-advanced-string-formatting>"
   ]
  },
  {
   "cell_type": "code",
   "execution_count": 3,
   "id": "10dda732",
   "metadata": {},
   "outputs": [
    {
     "name": "stdout",
     "output_type": "stream",
     "text": [
      "PI is 3.141592 and Euler's number is 2.718281.\n",
      "PI is 3.141592 and Euler's number is 2.718281.\n",
      "PI is 3.141592 and Euler's number is 2.718281.\n",
      "===Padding===\n",
      "PI is   3.141592 and Euler's number is 2.718281.\n",
      "PI is   3.141592 and Euler's number is 2.718281.\n",
      "PI is 3.141592   and Euler's number is 2.718281.\n"
     ]
    }
   ],
   "source": [
    "num_pi = \"3.141592\"\n",
    "num_e = \"2.718281\"\n",
    "\n",
    "print(\"PI is %s and Euler's number is %s.\" % (num_pi, num_e))\n",
    "print(\"PI is {} and Euler's number is {}.\".format(num_pi, num_e))\n",
    "print(f\"PI is {num_pi} and Euler's number is {num_e}.\")\n",
    "\n",
    "# Padding\n",
    "print(\"===Padding===\")\n",
    "print(\"PI is %10s and Euler's number is %s.\" % (num_pi, num_e))\n",
    "print(\"PI is {:>10} and Euler's number is {}.\".format(num_pi, num_e))\n",
    "print(f\"PI is {num_pi:>10} and Euler's number is {num_e}.\")"
   ]
  },
  {
   "cell_type": "markdown",
   "id": "1086ab71",
   "metadata": {},
   "source": [
    "### f-string and r-string (formatted, raw)"
   ]
  },
  {
   "cell_type": "code",
   "execution_count": null,
   "id": "d8559015",
   "metadata": {},
   "outputs": [],
   "source": [
    "var = 10\n",
    "\n",
    "print(f\"You have {var} apples. \\n\")"
   ]
  },
  {
   "cell_type": "code",
   "execution_count": null,
   "id": "630959d1",
   "metadata": {},
   "outputs": [],
   "source": [
    "print(r\"You have {var} apples. \\n\")"
   ]
  },
  {
   "cell_type": "code",
   "execution_count": null,
   "id": "4cac47d9",
   "metadata": {},
   "outputs": [],
   "source": [
    "\"I eat %d apples.\" % 3"
   ]
  },
  {
   "cell_type": "markdown",
   "id": "ea38dc52",
   "metadata": {},
   "source": [
    "### Numeric literals"
   ]
  },
  {
   "cell_type": "code",
   "execution_count": 4,
   "id": "5ff6f0be",
   "metadata": {},
   "outputs": [
    {
     "name": "stdout",
     "output_type": "stream",
     "text": [
      "10 100 200 300\n",
      "10.5 151.2\n",
      "(1.1+3.14j) 1.1 3.14\n"
     ]
    }
   ],
   "source": [
    "# Integer Literals\n",
    "a = 0b1010 # Binary Literals\n",
    "b = 100 # Decimal Literal\n",
    "c = 0o310 # Octal Literal\n",
    "d = 0x12c # Hexadecimal Literal\n",
    "\n",
    "# Float Literal\n",
    "float_1 = 10.5\n",
    "float_2 = 1.512e2\n",
    "\n",
    "# Complex Literal\n",
    "x = 1.1 + 3.14j\n",
    "\n",
    "print(a, b, c, d)\n",
    "print(float_1, float_2)\n",
    "print(x, x.real, x.imag)"
   ]
  },
  {
   "cell_type": "markdown",
   "id": "d1492c44",
   "metadata": {},
   "source": [
    "### String literals"
   ]
  },
  {
   "cell_type": "code",
   "execution_count": 5,
   "id": "f3e4068c",
   "metadata": {},
   "outputs": [
    {
     "name": "stdout",
     "output_type": "stream",
     "text": [
      "This is Python\n",
      "C\n",
      "This is a multiline string with more than one line code.\n",
      "Ünicöde\n",
      "raw \\n string\n"
     ]
    }
   ],
   "source": [
    "# String Literals\n",
    "strings = \"This is Python\"\n",
    "char = \"C\"\n",
    "multiline_str = \"\"\"This is a multiline string with more than one line code.\"\"\"\n",
    "unicode = u\"\\u00dcnic\\u00f6de\"\n",
    "raw_str = r\"raw \\n string\"\n",
    "\n",
    "print(strings)\n",
    "print(char)\n",
    "print(multiline_str)\n",
    "print(unicode)\n",
    "print(raw_str)"
   ]
  },
  {
   "cell_type": "markdown",
   "id": "1116c377",
   "metadata": {},
   "source": [
    "### Boolean literals"
   ]
  },
  {
   "cell_type": "code",
   "execution_count": 6,
   "id": "0efd3f90",
   "metadata": {},
   "outputs": [
    {
     "name": "stdout",
     "output_type": "stream",
     "text": [
      "x is True\n",
      "y is False\n",
      "a: 5\n",
      "b: 10\n"
     ]
    }
   ],
   "source": [
    "# Boolean Literals\n",
    "x = (1 == True)\n",
    "y = (1 == False)\n",
    "a = True + 4\n",
    "b = False + 10\n",
    "\n",
    "print(\"x is\", x)\n",
    "print(\"y is\", y)\n",
    "print(\"a:\", a)\n",
    "print(\"b:\", b)"
   ]
  }
 ],
 "metadata": {
  "kernelspec": {
   "display_name": "Python 3.10.6 64-bit",
   "language": "python",
   "name": "python3"
  },
  "language_info": {
   "codemirror_mode": {
    "name": "ipython",
    "version": 3
   },
   "file_extension": ".py",
   "mimetype": "text/x-python",
   "name": "python",
   "nbconvert_exporter": "python",
   "pygments_lexer": "ipython3",
   "version": "3.10.6"
  },
  "vscode": {
   "interpreter": {
    "hash": "aee8b7b246df8f9039afb4144a1f6fd8d2ca17a180786b69acc140d282b71a49"
   }
  }
 },
 "nbformat": 4,
 "nbformat_minor": 5
}

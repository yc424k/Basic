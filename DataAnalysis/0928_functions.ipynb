{
 "cells": [
  {
   "cell_type": "markdown",
   "metadata": {},
   "source": [
    "# Recursive functions"
   ]
  },
  {
   "cell_type": "code",
   "execution_count": null,
   "metadata": {
    "collapsed": true,
    "jupyter": {
     "outputs_hidden": true
    },
    "tags": []
   },
   "outputs": [],
   "source": [
    "def factorial(n):\n",
    "    if n == 1:\n",
    "        return 1\n",
    "    else:\n",
    "        return n*factorial(n-1)\n",
    "\n",
    "for i in range(1,10):\n",
    "    print(factorial(i))\n"
   ]
  },
  {
   "cell_type": "markdown",
   "metadata": {},
   "source": [
    "# Arguments\n",
    "## Keyword arguments\n"
   ]
  },
  {
   "cell_type": "code",
   "execution_count": 1,
   "metadata": {},
   "outputs": [
    {
     "name": "stdout",
     "output_type": "stream",
     "text": [
      "Hello Taewon in SCH University\n",
      "Hello Taewon in SCH University\n",
      "Hello Taewon in SCH University\n"
     ]
    }
   ],
   "source": [
    "def print_something(personname, univname):\n",
    "    print(f\"Hello {personname} in {univname}\")\n",
    "\n",
    "print_something(\"Taewon\", \"SCH University\")\n",
    "print_something(personname = \"Taewon\", univname = \"SCH University\")\n",
    "print_something(univname = \"SCH University\", personname = \"Taewon\")"
   ]
  },
  {
   "cell_type": "markdown",
   "metadata": {},
   "source": [
    "## Default arguments"
   ]
  },
  {
   "cell_type": "code",
   "execution_count": null,
   "metadata": {
    "collapsed": true,
    "jupyter": {
     "outputs_hidden": true
    },
    "tags": []
   },
   "outputs": [],
   "source": [
    "def print_something(personname, univname=\"SCH University\"):\n",
    "    print(f\"Hello {personname} in {univname}\")\n",
    "\n",
    "print_something(\"Taewon\", \"SCH University\")\n",
    "print_something(\"Taewon\", univname = \"Other University\")"
   ]
  },
  {
   "cell_type": "markdown",
   "metadata": {},
   "source": [
    "## Variable-length arguments (*Unpacking*)"
   ]
  },
  {
   "cell_type": "code",
   "execution_count": 2,
   "metadata": {},
   "outputs": [
    {
     "name": "stdout",
     "output_type": "stream",
     "text": [
      "1 2 ()\n",
      "None\n",
      "1 2 (3, 4, 5)\n",
      "None\n"
     ]
    }
   ],
   "source": [
    "def summation(a, b, *args):\n",
    "    # return a + b + sum(args)\n",
    "    print(a, b, args)\n",
    "    # Return 뒤에 다른 명령문이 오면 어떻게 동작하는가?\n",
    "\n",
    "print(summation(1,2))\n",
    "print(summation(1,2,3,4,5))"
   ]
  },
  {
   "cell_type": "code",
   "execution_count": 4,
   "id": "d1b1465a",
   "metadata": {},
   "outputs": [
    {
     "name": "stdout",
     "output_type": "stream",
     "text": [
      "1\n",
      "([2, 3, 4],)\n"
     ]
    }
   ],
   "source": [
    "def f(x, *args):\n",
    "    print(x)\n",
    "    print(args)\n",
    "\n",
    "a = (2, 3, 4)\n",
    "a = [2, 3, 4]\n",
    "\n",
    "# f(1, *a)\n",
    "f(1, a)"
   ]
  },
  {
   "cell_type": "markdown",
   "metadata": {},
   "source": [
    "# Dictionary data type"
   ]
  },
  {
   "cell_type": "code",
   "execution_count": null,
   "metadata": {},
   "outputs": [],
   "source": [
    "list_type = [0, 1, 2, 3]\n",
    "tuple_type = (0, 1, 2, 3)\n",
    "dict_type = {'Name':'Taewon', 'Affiliation':'SCH University'}\n",
    "\n",
    "print(type(list_type))\n",
    "print(type(tuple_type))\n",
    "print(type(dict_type))\n",
    "\n",
    "print(list_type[0])\n",
    "print(tuple_type[0])\n",
    "print(dict_type['Name'])"
   ]
  },
  {
   "cell_type": "code",
   "execution_count": null,
   "metadata": {},
   "outputs": [],
   "source": [
    "dict_type = {'Name':'Taewon', 'Affiliation':'SCH University'}\n",
    "print(dict_type)\n",
    "\n",
    "dict_type['Major']='Electrical Engineering'\n",
    "print(dict_type)\n",
    "\n",
    "dict_type['Languages']=['Korean', 'Japanese', 'English']\n",
    "print(dict_type)"
   ]
  },
  {
   "cell_type": "markdown",
   "metadata": {},
   "source": [
    "## Keyword variable-length arguments"
   ]
  },
  {
   "cell_type": "code",
   "execution_count": 4,
   "id": "b54cf677",
   "metadata": {},
   "outputs": [
    {
     "name": "stdout",
     "output_type": "stream",
     "text": [
      "{'first': 3, 'second': 4, 'third': 5}\n"
     ]
    }
   ],
   "source": [
    "def kwargs_test(**kwargs):\n",
    "    print(kwargs)\n",
    "\n",
    "kwargs_test(first = 3, second = 4, third = 5)"
   ]
  },
  {
   "cell_type": "code",
   "execution_count": 6,
   "metadata": {},
   "outputs": [
    {
     "name": "stdout",
     "output_type": "stream",
     "text": [
      "{'Name': 'Taewon', 'Affiliation': 'SCH University', 'Major': 'Electrical Engineering', 'Languages': ['Korean', 'Japanese', 'English']}\n",
      "<class 'dict'>\n",
      "Taewon\n"
     ]
    }
   ],
   "source": [
    "def enumeration(**kwargs):\n",
    "    print(kwargs)\n",
    "    print(type(kwargs))\n",
    "    print(kwargs['Name'])\n",
    "\n",
    "# enumeration(first=\"One\", second=\"Two\", third=\"Three\")\n",
    "info = {'Name':'Taewon', 'Affiliation':'SCH University'}\n",
    "info['Major']='Electrical Engineering'\n",
    "info['Languages']=['Korean', 'Japanese', 'English']\n",
    "\n",
    "enumeration(**info)"
   ]
  },
  {
   "cell_type": "markdown",
   "id": "6d36042a",
   "metadata": {},
   "source": [
    "## *args, **kwargs는 반드시 입력 인수의 마지막에 위치해야 합니다!"
   ]
  },
  {
   "cell_type": "markdown",
   "id": "921728ec",
   "metadata": {},
   "source": [
    "## 입력으로 들어오는 수의 평균을 구하는 함수를 작성해 봅시다."
   ]
  },
  {
   "cell_type": "markdown",
   "id": "08f1b7c1",
   "metadata": {},
   "source": [
    "출력예시:\n",
    "```python\n",
    ">> avg_numbers(1, 2)\n",
    "1.5\n",
    ">> avg_numbers(1, 2, 3, 4, 5)\n",
    "3.0\n",
    "```"
   ]
  },
  {
   "cell_type": "code",
   "execution_count": null,
   "id": "d0b4dd1e",
   "metadata": {},
   "outputs": [],
   "source": []
  },
  {
   "cell_type": "markdown",
   "id": "ffbbb31d",
   "metadata": {},
   "source": [
    "## Combining variable-length arguments and keyword variable-length arguments"
   ]
  },
  {
   "cell_type": "code",
   "execution_count": 7,
   "id": "d8d230ea",
   "metadata": {},
   "outputs": [
    {
     "name": "stdout",
     "output_type": "stream",
     "text": [
      "(10, 20)\n",
      "{'name': 'Taewon', 'age': '20', 'gender': 'male'}\n"
     ]
    }
   ],
   "source": [
    "def f(*args, **kwargs):\n",
    "    print(args)\n",
    "    print(kwargs)\n",
    "    \n",
    "f(10, 20, name = 'Taewon', age = '20', gender = 'male')"
   ]
  }
 ],
 "metadata": {
  "kernelspec": {
   "display_name": "Python 3.10.6 64-bit",
   "language": "python",
   "name": "python3"
  },
  "language_info": {
   "codemirror_mode": {
    "name": "ipython",
    "version": 3
   },
   "file_extension": ".py",
   "mimetype": "text/x-python",
   "name": "python",
   "nbconvert_exporter": "python",
   "pygments_lexer": "ipython3",
   "version": "3.10.6"
  },
  "vscode": {
   "interpreter": {
    "hash": "aee8b7b246df8f9039afb4144a1f6fd8d2ca17a180786b69acc140d282b71a49"
   }
  }
 },
 "nbformat": 4,
 "nbformat_minor": 5
}

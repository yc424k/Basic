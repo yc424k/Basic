{
 "cells": [
  {
   "cell_type": "markdown",
   "metadata": {},
   "source": [
    "# Enumerate"
   ]
  },
  {
   "cell_type": "code",
   "execution_count": null,
   "metadata": {},
   "outputs": [],
   "source": [
    "squidgame_info = {'001':'오일남', '067':'강새벽', '199':'알리 압둘', '456':'성기훈'}\n",
    "# squidgame_info = ['오일남', '강새벽', '알리 압둘', '성기훈']\n",
    "\n",
    "# squidgame_even = {ind:val for ind, val in enumerate(squidgame_info) if int(ind) % 2 == 0}\n",
    "# squidgame_even = {ind:val for ind, val in enumerate(squidgame_info)}\n",
    "\n",
    "for i, v in enumerate(squidgame_info.values()):\n",
    "    print(i, v)\n",
    "\n",
    "\n",
    "# print(enumerate(squidgame_info))"
   ]
  },
  {
   "cell_type": "markdown",
   "metadata": {},
   "source": [
    "# Handling multiple lists"
   ]
  },
  {
   "cell_type": "code",
   "execution_count": null,
   "metadata": {},
   "outputs": [],
   "source": [
    "# Find the longest name\n",
    "names = ['오일남', '강새벽', '알리 압둘', '성기훈', '조상우']\n",
    "counts = [len(x) for x in names]\n",
    "print(counts)\n",
    "\n",
    "# Initialization\n",
    "longest_name = None\n",
    "max_count = 0\n",
    "\n",
    "# for i in range(len(names)):\n",
    "#     count = counts[i]\n",
    "#     if count > max_count:\n",
    "#         longest_name = names[i]\n",
    "#         max_count = count\n",
    "# print(longest_name)\n",
    "\n",
    "# Using enumerate\n",
    "# for i, name in enumerate(names):\n",
    "#     count = counts[i]\n",
    "#     if count > max_count:\n",
    "#         longest_name = name\n",
    "#         max_count = count\n",
    "# print(longest_name)\n",
    "\n",
    "# Using zip function\n",
    "for name, count in zip(names, counts):\n",
    "    if count > max_count:\n",
    "        longest_name = name\n",
    "        max_count = count\n",
    "print(longest_name)\n",
    "\n",
    "# Try to use itertools.zip_longest!!"
   ]
  },
  {
   "cell_type": "markdown",
   "id": "f0188dbe",
   "metadata": {},
   "source": [
    "# Modules and packages"
   ]
  },
  {
   "cell_type": "markdown",
   "id": "e2a33ca4",
   "metadata": {},
   "source": [
    "### Function:\n",
    "\n",
    "![func](https://losskatsu.github.io/assets/images/programming/function-module-package/01.JPG)\n",
    "\n",
    "### Module:\n",
    "\n",
    "![module](https://losskatsu.github.io/assets/images/programming/function-module-package/03.JPG)\n",
    "\n",
    "### Package (or Library):\n",
    "\n",
    "![package](https://losskatsu.github.io/assets/images/programming/function-module-package/07.JPG)"
   ]
  },
  {
   "cell_type": "code",
   "execution_count": null,
   "metadata": {},
   "outputs": [],
   "source": [
    "import math\n",
    "\n",
    "print(math.sqrt(2))\n",
    "print(math.sqrt(4))\n",
    "print(math.pi)"
   ]
  },
  {
   "cell_type": "markdown",
   "metadata": {},
   "source": [
    "## Import module"
   ]
  },
  {
   "cell_type": "code",
   "execution_count": null,
   "metadata": {},
   "outputs": [],
   "source": [
    "from math import sqrt\n",
    "print(sqrt(2))\n",
    "print(pi)"
   ]
  },
  {
   "cell_type": "code",
   "execution_count": null,
   "metadata": {},
   "outputs": [],
   "source": [
    "from math import *\n",
    "\n",
    "print(sqrt(2))\n",
    "print(sqrt(4))\n",
    "print(pi)"
   ]
  },
  {
   "cell_type": "code",
   "execution_count": null,
   "metadata": {},
   "outputs": [],
   "source": [
    "import math as mt\n",
    "\n",
    "print(mt.sqrt(2))\n",
    "print(mt.sqrt(4))\n",
    "print(mt.pi)"
   ]
  },
  {
   "cell_type": "markdown",
   "id": "8290138d",
   "metadata": {},
   "source": [
    "## Make your own module"
   ]
  },
  {
   "cell_type": "markdown",
   "id": "d3213bd3",
   "metadata": {},
   "source": [
    "For Google Colab:"
   ]
  },
  {
   "cell_type": "code",
   "execution_count": null,
   "id": "805bed99",
   "metadata": {},
   "outputs": [],
   "source": [
    "!wget https://raw.githubusercontent.com/crazytb/schadvmachinelearning/f2c57e7ec39d1f03f3c9010d0872872acd5b0eff/mymodule.py"
   ]
  },
  {
   "cell_type": "markdown",
   "id": "fc0c0f41",
   "metadata": {},
   "source": [
    "For local IDE:"
   ]
  },
  {
   "cell_type": "code",
   "execution_count": null,
   "id": "e512f0dd",
   "metadata": {},
   "outputs": [],
   "source": [
    "# imported the requests library\n",
    "import requests\n",
    "url = \"https://raw.githubusercontent.com/crazytb/schadvmachinelearning/f2c57e7ec39d1f03f3c9010d0872872acd5b0eff/mymodule.py\"\n",
    "  \n",
    "# URL of the image to be downloaded is defined as url\n",
    "r = requests.get(url) # create HTTP response object\n",
    "\n",
    "# send a HTTP request to the server and save\n",
    "# the HTTP response in a response object called r\n",
    "with open(\"mymodule.py\",'wb') as f:\n",
    "  \n",
    "    # Saving received content as a png file in\n",
    "    # binary format\n",
    "  \n",
    "    # write the contents of the response (r.content)\n",
    "    # to a new file in binary mode.\n",
    "    f.write(r.content)"
   ]
  },
  {
   "cell_type": "code",
   "execution_count": null,
   "id": "6bc80871",
   "metadata": {},
   "outputs": [],
   "source": [
    "# def world():\n",
    "#     print(\"Hello, World!\")\n",
    "    \n",
    "# def add(a, b):\n",
    "#     return a + b\n",
    "\n",
    "# def sub(a, b):\n",
    "#     return a - b\n"
   ]
  },
  {
   "cell_type": "markdown",
   "id": "8a571cfa",
   "metadata": {},
   "source": [
    "### 1. from \\<package\\> import \\<module\\>"
   ]
  },
  {
   "cell_type": "code",
   "execution_count": 1,
   "id": "fd8f634d",
   "metadata": {},
   "outputs": [
    {
     "name": "stdout",
     "output_type": "stream",
     "text": [
      "Hello World!\n",
      "5\n",
      "5\n"
     ]
    }
   ],
   "source": [
    "from mymodule import world, add, sub\n",
    "\n",
    "world()\n",
    "print(add(2, 3))\n",
    "print(sub(2, 3))"
   ]
  },
  {
   "cell_type": "markdown",
   "id": "8a571cfa",
   "metadata": {},
   "source": [
    "### 2. from \\<package\\> import *"
   ]
  },
  {
   "cell_type": "code",
   "execution_count": 2,
   "id": "fd8f634d",
   "metadata": {},
   "outputs": [
    {
     "name": "stdout",
     "output_type": "stream",
     "text": [
      "Hello World!\n",
      "5\n",
      "5\n"
     ]
    }
   ],
   "source": [
    "from mymodule import *\n",
    "\n",
    "world()\n",
    "print(add(2, 3))\n",
    "print(sub(2, 3))"
   ]
  },
  {
   "cell_type": "markdown",
   "id": "8a571cfa",
   "metadata": {},
   "source": [
    "### 3. import \\<module\\> (as \\<abbr\\>)"
   ]
  },
  {
   "cell_type": "code",
   "execution_count": null,
   "id": "6bc80871",
   "metadata": {},
   "outputs": [],
   "source": [
    "import mymodule\n",
    "\n",
    "mymodule.world()\n",
    "print(mymodule.add(2, 3))\n",
    "print(mymodule.sub(2, 3))"
   ]
  },
  {
   "cell_type": "code",
   "execution_count": 3,
   "id": "6bc80871",
   "metadata": {},
   "outputs": [
    {
     "name": "stdout",
     "output_type": "stream",
     "text": [
      "Hello World!\n",
      "5\n",
      "5\n"
     ]
    }
   ],
   "source": [
    "import mymodule as mm\n",
    "\n",
    "mm.world()\n",
    "print(mm.add(2, 3))\n",
    "print(mm.sub(2, 3))"
   ]
  },
  {
   "cell_type": "markdown",
   "metadata": {},
   "source": [
    "# Matrix manipulation\n",
    "## https://numpy.org/doc/stable/reference/arrays.ndarray.html"
   ]
  },
  {
   "cell_type": "code",
   "execution_count": null,
   "metadata": {},
   "outputs": [],
   "source": [
    "import numpy as np\n",
    "\n",
    "arr = np.matrix([[4, 9, 2], [3, 5, 7], [8, 1, 6]])\n",
    "print(arr)"
   ]
  },
  {
   "cell_type": "markdown",
   "metadata": {},
   "source": [
    "## Transpose\n",
    "## https://numpy.org/doc/stable/reference/generated/numpy.matrix.T.html"
   ]
  },
  {
   "cell_type": "code",
   "execution_count": 4,
   "metadata": {},
   "outputs": [
    {
     "name": "stdout",
     "output_type": "stream",
     "text": [
      "[[4 9 2]\n",
      " [3 5 7]\n",
      " [8 1 6]]\n",
      "[[4 3 8]\n",
      " [9 5 1]\n",
      " [2 7 6]]\n",
      "[[ 8 12 10]\n",
      " [12 10  8]\n",
      " [10  8 12]]\n"
     ]
    }
   ],
   "source": [
    "import numpy as np\n",
    "\n",
    "# arr = np.matrix([[4, 9, 2], [3, 5, 7], [8, 1, 6]])\n",
    "arr = np.matrix('4, 9, 2; 3, 5, 7; 8, 1, 6')\n",
    "print(arr)\n",
    "\n",
    "print(arr.T)\n",
    "\n",
    "print(arr + arr.T)"
   ]
  },
  {
   "cell_type": "markdown",
   "metadata": {},
   "source": [
    "## Flatten\n",
    "## https://numpy.org/doc/stable/reference/generated/numpy.matrix.T.html"
   ]
  },
  {
   "cell_type": "code",
   "execution_count": null,
   "metadata": {},
   "outputs": [],
   "source": [
    "import numpy as np\n",
    "\n",
    "arr = np.matrix([[4, 9, 2], [3, 5, 7], [8, 1, 6]])\n",
    "\n",
    "for i in arr.flatten():\n",
    "    print(i)\n",
    "\n",
    "print(arr.flatten()) # 함수\n",
    "print(arr.A1) # 속성? 애트리뷰트"
   ]
  },
  {
   "cell_type": "markdown",
   "metadata": {},
   "source": [
    "# How to make module, class, attribute, and function"
   ]
  },
  {
   "cell_type": "code",
   "execution_count": null,
   "metadata": {},
   "outputs": [],
   "source": [
    "def add(a, b):\n",
    "    return a + b\n",
    "\n",
    "def sub(a, b):\n",
    "    return a - b\n",
    "    \n",
    "print(add(2, 3))\n",
    "print(sub(2, 3))"
   ]
  },
  {
   "cell_type": "markdown",
   "metadata": {},
   "source": [
    "## See mymodule.py"
   ]
  },
  {
   "cell_type": "code",
   "execution_count": null,
   "metadata": {},
   "outputs": [],
   "source": [
    "import mymodule as mm\n",
    "\n",
    "print(mm.add(2, 3))\n",
    "print(mm.sub(2, 3))"
   ]
  },
  {
   "cell_type": "markdown",
   "metadata": {},
   "source": [
    "## Class"
   ]
  },
  {
   "cell_type": "code",
   "execution_count": null,
   "metadata": {},
   "outputs": [],
   "source": [
    "class Cookie:\n",
    "    pass\n",
    "\n",
    "# a and b are \"instances\" of Cookie class.\n",
    "a = Cookie()\n",
    "b = Cookie()\n",
    "print(type(a))"
   ]
  },
  {
   "cell_type": "markdown",
   "metadata": {},
   "source": [
    "## Attribute"
   ]
  },
  {
   "cell_type": "code",
   "execution_count": null,
   "metadata": {},
   "outputs": [],
   "source": [
    "class Cookie:\n",
    "    foodtype = \"Yummy!\" # Class attribute\n",
    "\n",
    "# a and b are \"instances\" of Cookie class.\n",
    "a = Cookie()\n",
    "b = Cookie()\n",
    "print(a.foodtype)"
   ]
  },
  {
   "cell_type": "markdown",
   "metadata": {},
   "source": [
    "## Constructor"
   ]
  },
  {
   "cell_type": "code",
   "execution_count": null,
   "metadata": {},
   "outputs": [],
   "source": [
    "class Cookie:\n",
    "    \n",
    "    # Constructor\n",
    "    def __init__(self, taste = \"Yummy!\"):\n",
    "    # def __init__(self, taste):\n",
    "        self.taste = taste\n",
    "\n",
    "# a and b are \"instances\" of Cookie class.\n",
    "a = Cookie()\n",
    "b = Cookie(\"Bad!\")\n",
    "print(a.taste)\n",
    "print(b.taste)"
   ]
  },
  {
   "cell_type": "markdown",
   "metadata": {},
   "source": [
    "## Function"
   ]
  },
  {
   "cell_type": "code",
   "execution_count": null,
   "metadata": {},
   "outputs": [],
   "source": [
    "class Cookie:\n",
    "    \n",
    "    foodtype = \"It's cookie!\"\n",
    "\n",
    "    # Constructor\n",
    "    def __init__(self, taste = \"Yummy!\"):\n",
    "        self.taste = taste\n",
    "    \n",
    "    # Function\n",
    "    def set_taste(self, taste):\n",
    "        self.taste = taste\n",
    "\n",
    "\n",
    "# a and b are \"instances\" of Cookie class.\n",
    "a = Cookie()\n",
    "b = Cookie(\"Bad!\")\n",
    "b.taste = \"Hmm... not bad.\"\n",
    "print(a.taste)\n",
    "print(b.taste)"
   ]
  }
 ],
 "metadata": {
  "kernelspec": {
   "display_name": "Python 3.10.6 64-bit",
   "language": "python",
   "name": "python3"
  },
  "language_info": {
   "codemirror_mode": {
    "name": "ipython",
    "version": 3
   },
   "file_extension": ".py",
   "mimetype": "text/x-python",
   "name": "python",
   "nbconvert_exporter": "python",
   "pygments_lexer": "ipython3",
   "version": "3.10.6"
  },
  "vscode": {
   "interpreter": {
    "hash": "aee8b7b246df8f9039afb4144a1f6fd8d2ca17a180786b69acc140d282b71a49"
   }
  }
 },
 "nbformat": 4,
 "nbformat_minor": 5
}

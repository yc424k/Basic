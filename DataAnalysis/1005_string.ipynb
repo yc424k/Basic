{
 "cells": [
  {
   "cell_type": "markdown",
   "source": [
    "# Homework review\n",
    "## 제출기간 안에 제출하지 못했다고 하더라도 가능한 작성해서 제출해보기 바랍니다. (부분점수 부여)"
   ],
   "metadata": {}
  },
  {
   "cell_type": "code",
   "execution_count": null,
   "source": [
    "import random\n",
    "\n",
    "def make_random_number():\n",
    "    initial_list = [0, 1, 2, 3, 4, 5, 6, 7, 8, 9]\n",
    "    # initial_list = [x for x in range(0,10)] # List comprehension\n",
    "    random.shuffle(initial_list)\n",
    "    x0 = initial_list.pop()\n",
    "    x1 = initial_list.pop()\n",
    "    x2 = initial_list.pop()\n",
    "    return [x0, x1, x2]\n",
    "\n",
    "# For testing\n",
    "for i in range(0,10):\n",
    "    print(make_random_number())"
   ],
   "outputs": [],
   "metadata": {
    "collapsed": true,
    "jupyter": {
     "outputs_hidden": true
    },
    "tags": []
   }
  },
  {
   "cell_type": "markdown",
   "source": [
    "# String"
   ],
   "metadata": {}
  },
  {
   "cell_type": "code",
   "execution_count": null,
   "source": [
    "a = \"Hello\"\n",
    "for i in range(0,len(a)):\n",
    "    print(a[i])"
   ],
   "outputs": [],
   "metadata": {}
  },
  {
   "cell_type": "markdown",
   "source": [
    "## Functions of string, actually, it is \"method\"."
   ],
   "metadata": {}
  },
  {
   "cell_type": "code",
   "execution_count": null,
   "source": [
    "str_example = \"Hello\"\n",
    "list_example = [\"H\",\"e\",\"l\",\"l\",\"o\"]\n",
    "\n",
    "print(len(str_example))\n",
    "print(len(list_example))\n",
    "\n",
    "str_example.upper()\n",
    "list_example.upper()"
   ],
   "outputs": [],
   "metadata": {}
  },
  {
   "cell_type": "markdown",
   "source": [
    "## Useful string manipulations\n",
    "### https://docs.python.org/ko/3/library/stdtypes.html#text-sequence-type-str"
   ],
   "metadata": {}
  },
  {
   "cell_type": "code",
   "execution_count": null,
   "source": [
    "str_example = \" 수익률 (1M/3M/6M/1Y)/ +4.58%/ -4.78%/ -4.66%/ +34.20%  \"\n",
    "print(str_example)\n",
    "print(\"============\")\n",
    "\n",
    "print(str_example.strip())\n",
    "print(str_example.split())\n",
    "print(str_example.split(\"/\"))\n",
    "\n",
    "# print(str_example.split(\"/ \"))\n",
    "\n",
    "# stripped_str_example = str_example.strip()\n",
    "# print(stripped_str_example.split(\"/ \"))"
   ],
   "outputs": [],
   "metadata": {
    "collapsed": true,
    "jupyter": {
     "outputs_hidden": true
    },
    "tags": []
   }
  },
  {
   "cell_type": "markdown",
   "source": [
    "### https://docs.python.org/ko/3/library/stdtypes.html#string-methods\n",
    "### Find \"포맷 문자열 문법\""
   ],
   "metadata": {}
  },
  {
   "cell_type": "code",
   "execution_count": 54,
   "source": [
    "num_pi = \"3.141592\"\n",
    "num_e = \"2.718281\"\n",
    "\n",
    "print(\"PI is %s and Euler's number is %s.\" % (num_pi, num_e))\n",
    "print(\"PI is {} and Euler's number is {}.\".format(num_pi, num_e))\n",
    "print(f\"PI is {num_pi} and Euler's number is {num_e}.\")\n",
    "\n",
    "# Padding\n",
    "print(\"===Padding===\")\n",
    "print(\"PI is %10s and Euler's number is %s.\" % (num_pi, num_e))\n",
    "print(\"PI is {:>10} and Euler's number is {}.\".format(num_pi, num_e))\n",
    "print(f\"PI is {num_pi:>10} and Euler's number is {num_e}.\")"
   ],
   "outputs": [
    {
     "output_type": "stream",
     "name": "stdout",
     "text": [
      "PI is 3.141592 and Euler's number is 2.718281.\n",
      "PI is 3.141592 and Euler's number is 2.718281.\n",
      "PI is 3.141592 and Euler's number is 2.718281.\n",
      "===Padding===\n",
      "PI is   3.141592 and Euler's number is 2.718281.\n",
      "PI is   3.141592 and Euler's number is 2.718281.\n",
      "PI is   3.141592 and Euler's number is 2.718281.\n"
     ]
    }
   ],
   "metadata": {}
  }
 ],
 "metadata": {
  "interpreter": {
   "hash": "1debf5b6efd989f97f75627a5f8956a3c30b055fd97e2533ef2729a55b1efff7"
  },
  "kernelspec": {
   "name": "python3",
   "display_name": "Python 3.8.8 64-bit ('base': conda)"
  },
  "language_info": {
   "codemirror_mode": {
    "name": "ipython",
    "version": 3
   },
   "file_extension": ".py",
   "mimetype": "text/x-python",
   "name": "python",
   "nbconvert_exporter": "python",
   "pygments_lexer": "ipython3",
   "version": "3.8.8"
  }
 },
 "nbformat": 4,
 "nbformat_minor": 5
}
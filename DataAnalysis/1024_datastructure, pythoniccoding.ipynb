{
 "cells": [
  {
   "cell_type": "markdown",
   "metadata": {},
   "source": [
    "# Stack (Last in first out)"
   ]
  },
  {
   "cell_type": "code",
   "execution_count": null,
   "metadata": {},
   "outputs": [],
   "source": [
    "a = [1, 2, 3, 4, 5]\n",
    "a.append(10)\n",
    "print(a)\n",
    "a.pop()\n",
    "print(a)\n",
    "a.pop()\n",
    "print(a)"
   ]
  },
  {
   "cell_type": "markdown",
   "metadata": {},
   "source": [
    "# Queue (First in first out)"
   ]
  },
  {
   "cell_type": "code",
   "execution_count": null,
   "metadata": {},
   "outputs": [],
   "source": [
    "a = [1, 2, 3, 4, 5]\n",
    "a.append(10)\n",
    "print(a)\n",
    "a.pop(0)\n",
    "print(a)\n",
    "a.pop(0)\n",
    "print(a)"
   ]
  },
  {
   "cell_type": "markdown",
   "metadata": {},
   "source": [
    "# Set\n",
    "## https://www.w3schools.com/python/python_ref_set.asp"
   ]
  },
  {
   "cell_type": "code",
   "execution_count": null,
   "metadata": {
    "collapsed": true,
    "jupyter": {
     "outputs_hidden": true
    },
    "tags": []
   },
   "outputs": [],
   "source": [
    "s1 = {3, 2, 1}\n",
    "print(s1)\n",
    "\n",
    "li = [3, 3, 2, 2, 1]\n",
    "s2 = set(li)\n",
    "print(s2)"
   ]
  },
  {
   "cell_type": "markdown",
   "metadata": {},
   "source": [
    "# Dictionary\n",
    "## https://www.w3schools.com/python/python_ref_dictionary.asp"
   ]
  },
  {
   "cell_type": "code",
   "execution_count": null,
   "metadata": {},
   "outputs": [],
   "source": [
    "squidgame_info = {'001':'오일남', '001':'오일남', '067':'강새벽', '199':'알리 압둘', '456':'성기훈'}\n",
    "# Set과 같이 {}를 사용하는 이유에 대해 생각해 봅시다.\n",
    "print(squidgame_info)\n",
    "print(squidgame_info['001'])\n",
    "# Or, squidgame_info.get\n",
    "# https://www.w3schools.com/python/ref_dictionary_get.asp\n",
    "print(squidgame_info.get('500', 'No name'))\n",
    "\n",
    "squidgame_info['101'] = '장덕수'\n",
    "print(squidgame_info)\n",
    "\n",
    "print(squidgame_info.keys())\n",
    "print(squidgame_info.values())\n",
    "print(squidgame_info.items())   "
   ]
  },
  {
   "cell_type": "markdown",
   "metadata": {},
   "source": [
    "# Python-style code: List comprehension"
   ]
  },
  {
   "cell_type": "code",
   "execution_count": null,
   "metadata": {},
   "outputs": [],
   "source": [
    "a1 = [1, 2, 3, 4, 5, 6, 7, 8, 9, 10]\n",
    "a2 = [x for x in range(0, 10)]\n",
    "print(a1)"
   ]
  },
  {
   "cell_type": "markdown",
   "metadata": {},
   "source": [
    "## List comprehension의 구조"
   ]
  },
  {
   "cell_type": "code",
   "execution_count": 1,
   "id": "e91237f4",
   "metadata": {},
   "outputs": [
    {
     "name": "stdout",
     "output_type": "stream",
     "text": [
      "{'456'}\n"
     ]
    }
   ],
   "source": [
    "squidgame_info = {'001':'오일남', '067':'강새벽', '199':'알리 압둘', '456':'성기훈'}\n",
    "\n",
    "squidgame_even = {x for x in squidgame_info.keys() if int(x) % 2 == 0}\n",
    "# squidgame_even = {x:squidgame_info[x] for x in squidgame_info.keys() if int(x) % 2 == 0}\n",
    "print(squidgame_even)"
   ]
  },
  {
   "cell_type": "markdown",
   "id": "b1459202",
   "metadata": {},
   "source": [
    "## List comprehension 실습"
   ]
  },
  {
   "cell_type": "markdown",
   "id": "6da72099",
   "metadata": {},
   "source": [
    "### Ex1) list가 1부터 100 사이의 8의 배수를 가지도록 만들어 봅시다."
   ]
  },
  {
   "cell_type": "code",
   "execution_count": 2,
   "id": "e7a5758f",
   "metadata": {},
   "outputs": [],
   "source": [
    "import time\n",
    "\n",
    "start_time = time.time()\n",
    "iteration_number = 100"
   ]
  },
  {
   "cell_type": "code",
   "execution_count": 3,
   "id": "c09a4fa4",
   "metadata": {},
   "outputs": [
    {
     "name": "stdout",
     "output_type": "stream",
     "text": [
      "[0, 8, 16, 24, 32, 40, 48, 56, 64, 72, 80, 88, 96]\n",
      "1.2716338634490967 seconds\n"
     ]
    }
   ],
   "source": [
    "list_using_forloops = []\n",
    "\n",
    "for x in range(iteration_number):\n",
    "    if x % 8 == 0:\n",
    "        list_using_forloops.append(x)\n",
    "\n",
    "print(list_using_forloops)\n",
    "print(f\"{time.time() - start_time} seconds\")"
   ]
  },
  {
   "cell_type": "code",
   "execution_count": 4,
   "id": "ca94d03c",
   "metadata": {},
   "outputs": [
    {
     "name": "stdout",
     "output_type": "stream",
     "text": [
      "[0, 8, 16, 24, 32, 40, 48, 56, 64, 72, 80, 88, 96]\n"
     ]
    }
   ],
   "source": [
    "# list1 = [8*x for x in range(100)]\n",
    "# print(list1)\n",
    "\n",
    "list_using_list_comp1 = [x for x in range(iteration_number) if x % 8 == 0]\n",
    "print(list_using_list_comp1)"
   ]
  },
  {
   "cell_type": "code",
   "execution_count": 5,
   "id": "bc22ca57",
   "metadata": {},
   "outputs": [
    {
     "name": "stdout",
     "output_type": "stream",
     "text": [
      "[0, 0, 0, 0, 0, 0, 0, 0, 8, 0, 0, 0, 0, 0, 0, 0, 16, 0, 0, 0, 0, 0, 0, 0, 24, 0, 0, 0, 0, 0, 0, 0, 32, 0, 0, 0, 0, 0, 0, 0, 40, 0, 0, 0, 0, 0, 0, 0, 48, 0, 0, 0, 0, 0, 0, 0, 56, 0, 0, 0, 0, 0, 0, 0, 64, 0, 0, 0, 0, 0, 0, 0, 72, 0, 0, 0, 0, 0, 0, 0, 80, 0, 0, 0, 0, 0, 0, 0, 88, 0, 0, 0, 0, 0, 0, 0, 96, 0, 0, 0]\n"
     ]
    }
   ],
   "source": [
    "# 순서에 주의할 것.\n",
    "list_using_list_comp2 = [x if x % 8 == 0 else 0 for x in range(iteration_number)]\n",
    "print(list_using_list_comp2)"
   ]
  },
  {
   "cell_type": "markdown",
   "id": "1e108903",
   "metadata": {},
   "source": [
    "### Ex2) 8비트 이진수 출력"
   ]
  },
  {
   "cell_type": "code",
   "execution_count": 7,
   "id": "99f6214f",
   "metadata": {},
   "outputs": [
    {
     "name": "stdout",
     "output_type": "stream",
     "text": [
      "['0000', '0001', '0010', '0011', '0100', '0101', '0110', '0111', '1000', '1001', '1010', '1011', '1100', '1101', '1110', '1111']\n"
     ]
    }
   ],
   "source": [
    "bin8_using_forloops = []\n",
    "\n",
    "for a in ['0', '1']:\n",
    "    for b in ['0', '1']:\n",
    "        for c in ['0', '1']:\n",
    "            for d in ['0', '1']:\n",
    "                bin8_using_forloops.append(a+b+c+d)\n",
    "    \n",
    "print(bin8_using_forloops)\n"
   ]
  },
  {
   "cell_type": "code",
   "execution_count": null,
   "id": "32366317",
   "metadata": {},
   "outputs": [],
   "source": [
    "bin8_using_list_comp = [a+b+c+d for a in ['0', '1'] for b in ['0', '1'] for c in ['0', '1'] for d in ['0', '1']]\n",
    "print(bin8_using_list_comp)"
   ]
  },
  {
   "cell_type": "markdown",
   "id": "f2a2d7c8",
   "metadata": {},
   "source": [
    "### split + list comprehension"
   ]
  },
  {
   "cell_type": "code",
   "execution_count": null,
   "id": "76ecfe4e",
   "metadata": {},
   "outputs": [],
   "source": [
    "filename = 'yesterday.txt'\n",
    "target_url = 'https://raw.githubusercontent.com/crazytb/schadvmachinelearning/main/'\n",
    "target_url = target_url + filename"
   ]
  },
  {
   "cell_type": "code",
   "execution_count": 10,
   "id": "1bcaa981",
   "metadata": {},
   "outputs": [
    {
     "name": "stdout",
     "output_type": "stream",
     "text": [
      "['The', 'quick', 'brown', 'fox', 'jumps', 'over', 'the', 'lazy', 'dog']\n",
      "[['THE', 'the', 3], ['QUICK', 'quick', 5], ['BROWN', 'brown', 5], ['FOX', 'fox', 3], ['JUMPS', 'jumps', 5], ['OVER', 'over', 4], ['THE', 'the', 3], ['LAZY', 'lazy', 4], ['DOG', 'dog', 3]]\n",
      "['THE', 'the', 3]\n",
      "['QUICK', 'quick', 5]\n",
      "['BROWN', 'brown', 5]\n",
      "['FOX', 'fox', 3]\n",
      "['JUMPS', 'jumps', 5]\n",
      "['OVER', 'over', 4]\n",
      "['THE', 'the', 3]\n",
      "['LAZY', 'lazy', 4]\n",
      "['DOG', 'dog', 3]\n"
     ]
    }
   ],
   "source": [
    "words = 'The quick brown fox jumps over the lazy dog'.split()\n",
    "print(words)\n",
    "\n",
    "stuff = [[w.upper(), w.lower(), len(w)] for w in words]\n",
    "print(stuff)\n",
    "\n",
    "for i in stuff:\n",
    "    print(i)"
   ]
  },
  {
   "cell_type": "markdown",
   "metadata": {},
   "source": [
    "# Enumerate"
   ]
  },
  {
   "cell_type": "code",
   "execution_count": null,
   "id": "a6b60e12",
   "metadata": {},
   "outputs": [],
   "source": [
    "for i, v in enumerate(['tic', 'tac', 'toe']):\n",
    "    print(i, v)"
   ]
  },
  {
   "cell_type": "code",
   "execution_count": null,
   "metadata": {},
   "outputs": [],
   "source": [
    "squidgame_info = {'001':'오일남', '067':'강새벽', '199':'알리 압둘', '456':'성기훈'}\n",
    "\n",
    "# squidgame_even = {ind:val for ind, val in enumerate(squidgame_info) if int(ind) % 2 == 0}\n",
    "# squidgame_even = {ind:val for ind, val in enumerate(squidgame_info)}\n",
    "\n",
    "for i, v in enumerate(squidgame_info):\n",
    "    print(i, v)"
   ]
  },
  {
   "cell_type": "code",
   "execution_count": null,
   "id": "5ef09607",
   "metadata": {},
   "outputs": [],
   "source": [
    "for k, v in squidgame_info.items():\n",
    "    print(f\"번호: {k}, 이름: {v}\")"
   ]
  },
  {
   "cell_type": "markdown",
   "id": "b0025ce1",
   "metadata": {},
   "source": [
    "## zip: 여러 이터레이터에 대한 반복문 수행"
   ]
  },
  {
   "cell_type": "code",
   "execution_count": 13,
   "id": "544994a4",
   "metadata": {},
   "outputs": [
    {
     "name": "stdout",
     "output_type": "stream",
     "text": [
      "[7, 4, 5, 5, 4]\n"
     ]
    }
   ],
   "source": [
    "names = ['Cecilia', 'Lise', 'Marie', 'Robin', 'Lily']\n",
    "counts = [len(n) for n in names]\n",
    "print(counts)"
   ]
  },
  {
   "cell_type": "code",
   "execution_count": 15,
   "id": "9e9978c5",
   "metadata": {},
   "outputs": [
    {
     "name": "stdout",
     "output_type": "stream",
     "text": [
      "Cecilia\n"
     ]
    }
   ],
   "source": [
    "# Pick the longest name in the list of names\n",
    "longest_name = None\n",
    "max_count = 0\n",
    "\n",
    "for i in range(len(names)):\n",
    "    count = counts[i]\n",
    "    if count > max_count:\n",
    "        longest_name = names[i]\n",
    "        max_count = count\n",
    "        \n",
    "print(longest_name)"
   ]
  },
  {
   "cell_type": "code",
   "execution_count": 16,
   "id": "8959247f",
   "metadata": {},
   "outputs": [
    {
     "name": "stdout",
     "output_type": "stream",
     "text": [
      "Cecilia\n"
     ]
    }
   ],
   "source": [
    "for i, name in enumerate(names):\n",
    "    count = counts[i]\n",
    "    if count > max_count:\n",
    "        longest_name = name\n",
    "        max_count = count\n",
    "        \n",
    "print(longest_name)"
   ]
  },
  {
   "cell_type": "code",
   "execution_count": 17,
   "id": "1a7a18a7",
   "metadata": {},
   "outputs": [
    {
     "name": "stdout",
     "output_type": "stream",
     "text": [
      "Cecilia\n"
     ]
    }
   ],
   "source": [
    "for name, count in zip(names, counts):\n",
    "    if count > max_count:\n",
    "        longest_name = name\n",
    "        max_count = count\n",
    "        \n",
    "print(longest_name)"
   ]
  },
  {
   "cell_type": "code",
   "execution_count": 18,
   "id": "a556f127",
   "metadata": {},
   "outputs": [
    {
     "name": "stdout",
     "output_type": "stream",
     "text": [
      "Cecilia\n",
      "Lise\n",
      "Marie\n",
      "Robin\n",
      "Lily\n"
     ]
    }
   ],
   "source": [
    "names.append('Rosalind')\n",
    "for name, count in zip(names, counts):\n",
    "    print(name)"
   ]
  },
  {
   "cell_type": "code",
   "execution_count": 21,
   "id": "5046fa55",
   "metadata": {},
   "outputs": [
    {
     "name": "stdout",
     "output_type": "stream",
     "text": [
      "Cecilia: 7\n",
      "Lise: 4\n",
      "Marie: 5\n",
      "Robin: 5\n",
      "Lily: 4\n",
      "Rosalind: None\n"
     ]
    }
   ],
   "source": [
    "import itertools\n",
    "\n",
    "for name, count in itertools.zip_longest(names, counts):\n",
    "    print(f\"{name}: {count}\")"
   ]
  },
  {
   "cell_type": "markdown",
   "id": "3563a217",
   "metadata": {},
   "source": [
    "### zip + list comprehension"
   ]
  },
  {
   "cell_type": "markdown",
   "id": "aadccd66",
   "metadata": {},
   "source": [
    "https://docs.python.org/3/library/itertools.html#itertools.zip_longest"
   ]
  },
  {
   "cell_type": "code",
   "execution_count": 23,
   "id": "a694e3e5",
   "metadata": {},
   "outputs": [
    {
     "name": "stdout",
     "output_type": "stream",
     "text": [
      "[111, 222, 333]\n",
      "[111, 222, 333, 400]\n"
     ]
    }
   ],
   "source": [
    "a = [1, 2, 3]\n",
    "b = [10, 20, 30]\n",
    "c = [100, 200, 300, 400]\n",
    "\n",
    "sum_all_numbers = [sum(x) for x in zip(a, b, c)]\n",
    "print(sum_all_numbers)\n",
    "\n",
    "# sum_all_numbers_with_itertools = [sum(x) for x in itertools.zip_longest(a, b, c)]\n",
    "sum_all_numbers_with_itertools = [sum(x) for x in itertools.zip_longest(a, b, c, fillvalue=0)]\n",
    "print(sum_all_numbers_with_itertools)"
   ]
  },
  {
   "cell_type": "markdown",
   "metadata": {},
   "source": [
    "# Matrix, Array: numpy 씁시다\n",
    "## https://www.geeksforgeeks.org/python-lists-vs-numpy-arrays/"
   ]
  },
  {
   "cell_type": "code",
   "execution_count": null,
   "metadata": {},
   "outputs": [],
   "source": [
    "import numpy as np\n",
    "\n",
    "arr1 = [1.0, 2.0, 2.0]\n",
    "print(arr1)\n",
    "print(type(arr1))\n",
    "\n",
    "arr2 = np.array([1.0, 2.0, 2.0])\n",
    "print(arr2)\n",
    "print(type(arr2))\n"
   ]
  }
 ],
 "metadata": {
  "kernelspec": {
   "display_name": "Python 3.10.6 64-bit",
   "language": "python",
   "name": "python3"
  },
  "language_info": {
   "codemirror_mode": {
    "name": "ipython",
    "version": 3
   },
   "file_extension": ".py",
   "mimetype": "text/x-python",
   "name": "python",
   "nbconvert_exporter": "python",
   "pygments_lexer": "ipython3",
   "version": "3.10.6"
  },
  "vscode": {
   "interpreter": {
    "hash": "aee8b7b246df8f9039afb4144a1f6fd8d2ca17a180786b69acc140d282b71a49"
   }
  }
 },
 "nbformat": 4,
 "nbformat_minor": 5
}

{
 "cells": [
  {
   "cell_type": "code",
   "execution_count": 5,
   "id": "73752c27",
   "metadata": {},
   "outputs": [
    {
     "name": "stdout",
     "output_type": "stream",
     "text": [
      "2018-08-01 39.6\n"
     ]
    }
   ],
   "source": [
    "import csv\n",
    "max_temp = -999\n",
    "max_date = ''\n",
    "f = open('seoul.csv')\n",
    "data = csv.reader(f)\n",
    "header = next(data)\n",
    "for row in data :\n",
    "    if row[4] == '':\n",
    "        row[4] = -999\n",
    "    row[4] = float(row[4])\n",
    "    if max_temp < row[4]:\n",
    "        max_date = row[0]\n",
    "        max_temp = row[4]\n",
    "    # print(row)\n",
    "f.close()\n",
    "print(max_date, max_temp)"
   ]
  },
  {
   "cell_type": "code",
   "execution_count": null,
   "id": "c6334f6d",
   "metadata": {},
   "outputs": [],
   "source": []
  }
 ],
 "metadata": {
  "kernelspec": {
   "display_name": "Python 3 (ipykernel)",
   "language": "python",
   "name": "python3"
  },
  "language_info": {
   "codemirror_mode": {
    "name": "ipython",
    "version": 3
   },
   "file_extension": ".py",
   "mimetype": "text/x-python",
   "name": "python",
   "nbconvert_exporter": "python",
   "pygments_lexer": "ipython3",
   "version": "3.9.12"
  }
 },
 "nbformat": 4,
 "nbformat_minor": 5
}

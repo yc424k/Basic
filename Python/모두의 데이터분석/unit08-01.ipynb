{
 "cells": [
  {
   "cell_type": "markdown",
   "metadata": {},
   "source": []
  },
  {
   "cell_type": "code",
   "execution_count": null,
   "metadata": {},
   "outputs": [],
   "source": [
    "import csv\n",
    "import matplotlib.pyplot as plt\n",
    "\n",
    "f = open('gender.csv', encoding='cp949')\n",
    "data = csv.reader(f)\n",
    "\n",
    "m = []\n",
    "f = []\n",
    "\n",
    "name = input('찾고 싶은 지역의 이름을 입력하세요 : ')\n",
    "for row in data:\n",
    "    if name in row[0] :\n",
    "        for i in row[3:104]:\n",
    "            m.append(-int(i.replace(',','')))\n",
    "        for i in row[106:207]:\n",
    "            f.append(int(i.replace(',','')))\n",
    "        break\n",
    "\n",
    "plt.style.use('ggplot')\n",
    "plt.figure(figsize=(10, 5), dpi = 300)\n",
    "# plt.rcParams['axes.unicdoe_minus'] = False\n",
    "plt.barh(range(101), m, label = 'Male')\n",
    "plt.barh(range(101), f, label = 'Female')\n",
    "plt.legend()\n",
    "plt.show()"
   ]
  },
  {
   "cell_type": "code",
   "execution_count": null,
   "metadata": {},
   "outputs": [],
   "source": [
    "import matplotlib.pyplot as plt\n",
    "plt.pie([10,20])\n",
    "plt.show()"
   ]
  },
  {
   "cell_type": "code",
   "execution_count": null,
   "metadata": {},
   "outputs": [],
   "source": [
    "import matplotlib.pyplot as plt\n",
    "size = [2441, 2312, 1031, 1233]\n",
    "plt.axis('equal')\n",
    "plt.pie(size)\n",
    "plt.show()"
   ]
  },
  {
   "cell_type": "code",
   "execution_count": null,
   "metadata": {},
   "outputs": [],
   "source": [
    "import matplotlib.pyplot as plt\n",
    "size = [2441, 2312, 1031, 1233]\n",
    "label = ['A', 'B', 'AB', 'O']\n",
    "plt.axis('equal')\n",
    "plt.pie(size, labels=label)\n",
    "plt.show()"
   ]
  },
  {
   "cell_type": "code",
   "execution_count": null,
   "metadata": {},
   "outputs": [],
   "source": [
    "import matplotlib.pyplot as plt\n",
    "size = [2441, 2312, 1031, 1233]\n",
    "label = ['A', 'B', 'AB', 'O']\n",
    "plt.axis('equal')\n",
    "plt.pie(size, labels = label, autopct='%.1f%%')\n",
    "plt.legend()\n",
    "plt.show()"
   ]
  },
  {
   "cell_type": "code",
   "execution_count": null,
   "metadata": {},
   "outputs": [],
   "source": [
    "import matplotlib.pyplot as plt\n",
    "size = [2411, 2312, 1031, 1233]\n",
    "label = ['A', 'B', 'AB', 'O']\n",
    "color = ['darkmagenta', 'deeppink', 'hotpink', 'pink']\n",
    "plt.axis('equal')\n",
    "plt.pie(size, labels = label, autopct='%.1f%%', colors = color, explode=(0,0,0.1,0))\n",
    "plt.legend()\n",
    "plt.show()"
   ]
  },
  {
   "cell_type": "code",
   "execution_count": 32,
   "metadata": {},
   "outputs": [
    {
     "name": "stdout",
     "output_type": "stream",
     "text": [
      "[64444, 78692]\n"
     ]
    }
   ],
   "source": [
    "import csv\n",
    "\n",
    "f = open('age2.csv', encoding='cp949')\n",
    "data = csv.reader(f)\n",
    "size = []\n",
    "name = input('찾고 싶은 지역의 이름을 입력하세요 : ')\n",
    "\n",
    "for row in data:\n",
    "    if name in row[0]:\n",
    "        m = 0\n",
    "        f = 0\n",
    "        for i in range(11):\n",
    "            m += int(row[i+3].replace(',',''))\n",
    "            f += int(row[i+16].replace(',',''))\n",
    "        break\n",
    "size.append(m)\n",
    "size.append(f)\n",
    "print(size)"
   ]
  },
  {
   "cell_type": "code",
   "execution_count": 34,
   "metadata": {},
   "outputs": [
    {
     "data": {
      "image/png": "[encoded data removed]",
      "text/plain": [
       "<Figure size 432x288 with 1 Axes>"
      ]
     },
     "metadata": {},
     "output_type": "display_data"
    }
   ],
   "source": [
    "import csv\n",
    "import matplotlib.pyplot as plt\n",
    "\n",
    "f = open('gender.csv', encoding='cp949')\n",
    "data = csv.reader(f)\n",
    "size = []\n",
    "name = input('찾고 싶은 지역의 이름을 적으세요 : ')\n",
    "\n",
    "for row in data:\n",
    "    if name in row[0]:\n",
    "        m = 0\n",
    "        f = 0\n",
    "        for i in range(11):\n",
    "            m += int(row[i+3].replace(',',''))\n",
    "            f += int(row[i+16].replace(',',''))\n",
    "        break\n",
    "size.append(m)\n",
    "size.append(f)\n",
    "\n",
    "color = ['crimson','darkcyan']\n",
    "plt.axis('equal')\n",
    "plt.pie(size, labels=['Male', 'Female'], autopct = '%.1f%%', colors=color, startangle=90)\n",
    "plt.show()"
   ]
  }
 ],
 "metadata": {
  "kernelspec": {
   "display_name": "Python 3.9.12 ('base')",
   "language": "python",
   "name": "python3"
  },
  "language_info": {
   "codemirror_mode": {
    "name": "ipython",
    "version": 3
   },
   "file_extension": ".py",
   "mimetype": "text/x-python",
   "name": "python",
   "nbconvert_exporter": "python",
   "pygments_lexer": "ipython3",
   "version": "3.9.12"
  },
  "orig_nbformat": 4,
  "vscode": {
   "interpreter": {
    "hash": "bd4c53e02c89b6ae3947f70ec2b1a9ea7d2d8e329c692fea4bbc94c88ae64895"
   }
  }
 },
 "nbformat": 4,
 "nbformat_minor": 2
}

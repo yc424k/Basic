{
 "cells": [
  {
   "cell_type": "markdown",
   "source": [
    "# 모듈 불러오기"
   ],
   "metadata": {
    "collapsed": false
   },
   "id": "7c9ab725799dbe73"
  },
  {
   "cell_type": "code",
   "outputs": [],
   "source": [
    "import torch\n",
    "import torch.nn as nn\n",
    "import torch.nn.functional as F                 # 딥러닝에 자주 사용되는 함수가 포함된 모듈\n",
    "import torch.optim as optim                     # 가중치 추정에 필요한 최적화 알고리즘을 포함한 모둘\n",
    "from torchvision import datasets, transforms\n",
    "\n",
    "from matplotlib import pyplot as plt\n",
    "# %matplotlib inline                              # 주피터 노트북 사용시 추가"
   ],
   "metadata": {
    "collapsed": false,
    "ExecuteTime": {
     "end_time": "2024-04-21T14:43:05.325846Z",
     "start_time": "2024-04-21T14:43:05.307436Z"
    }
   },
   "id": "628550885de5409b",
   "execution_count": 48
  },
  {
   "cell_type": "markdown",
   "source": [
    "# 분석 환경 설정"
   ],
   "metadata": {
    "collapsed": false
   },
   "id": "af13dcfc7b9332e1"
  },
  {
   "cell_type": "code",
   "outputs": [
    {
     "name": "stdout",
     "output_type": "stream",
     "text": [
      "Current cuda device is cuda\n"
     ]
    }
   ],
   "source": [
    "is_cuda = torch.cuda.is_available()\n",
    "device = torch.device(\"cuda\" if is_cuda else \"cpu\")\n",
    "\n",
    "print(\"Current cuda device is\", device)\n",
    "# GPU 사용 : Current cuda device is cuda\n",
    "# CPU 사용 : Current cuda device is cpu"
   ],
   "metadata": {
    "collapsed": false,
    "ExecuteTime": {
     "end_time": "2024-04-21T11:59:09.925271Z",
     "start_time": "2024-04-21T11:59:09.917271Z"
    }
   },
   "id": "6cd81b3b3bdd8094",
   "execution_count": 28
  },
  {
   "cell_type": "markdown",
   "source": [
    "# HyperParameter 지정"
   ],
   "metadata": {
    "collapsed": false
   },
   "id": "9f8ceb19561d41f0"
  },
  {
   "cell_type": "code",
   "outputs": [],
   "source": [
    "batch_size = 50         # 모델 가중치를 한 번 업데이트시킬 때 사용되는 샘플 단위 개수\n",
    "epoch_num = 15          # 학습 데이터를 모두 사용하여 학습하는 기본 단위 횟수\n",
    "learning_rate = 0.0001  # 가중치 업데이트의 정도"
   ],
   "metadata": {
    "collapsed": false,
    "ExecuteTime": {
     "end_time": "2024-04-21T14:43:09.466339Z",
     "start_time": "2024-04-21T14:43:09.448822Z"
    }
   },
   "id": "5a9bf1008ac326cf",
   "execution_count": 49
  },
  {
   "cell_type": "markdown",
   "source": [
    "# MNIST 데이터 불러오기"
   ],
   "metadata": {
    "collapsed": false
   },
   "id": "6c8cffddf0ff0328"
  },
  {
   "cell_type": "code",
   "outputs": [],
   "source": [
    "train_data = datasets.MNIST(root='./data', train=True, download=True, transform=transforms.ToTensor())\n",
    "test_data = datasets.MNIST(root='./data', train=False, download=False, transform=transforms.ToTensor())"
   ],
   "metadata": {
    "collapsed": false,
    "ExecuteTime": {
     "end_time": "2024-04-21T14:43:11.389368Z",
     "start_time": "2024-04-21T14:43:11.343814Z"
    }
   },
   "id": "111b6ba7faf4ffad",
   "execution_count": 50
  },
  {
   "cell_type": "markdown",
   "source": [
    "# MNIST 데이터 확인하기"
   ],
   "metadata": {
    "collapsed": false
   },
   "id": "734f2d3de2b3f2de"
  },
  {
   "cell_type": "markdown",
   "source": [],
   "metadata": {
    "collapsed": false
   },
   "id": "b0f710840012c13f"
  },
  {
   "cell_type": "code",
   "outputs": [
    {
     "name": "stdout",
     "output_type": "stream",
     "text": [
      "60000\n",
      "10000\n"
     ]
    }
   ],
   "source": [
    "print(len(train_data))\n",
    "print(len(test_data))"
   ],
   "metadata": {
    "collapsed": false,
    "ExecuteTime": {
     "end_time": "2024-04-21T14:43:13.046267Z",
     "start_time": "2024-04-21T14:43:13.040758Z"
    }
   },
   "id": "4318ef26d4d37516",
   "execution_count": 51
  },
  {
   "cell_type": "code",
   "outputs": [
    {
     "data": {
      "text/plain": "<Figure size 640x480 with 1 Axes>",
      "image/png": "[encoded data removed]"
     },
     "metadata": {},
     "output_type": "display_data"
    }
   ],
   "source": [
    "image, label = train_data[0]\n",
    "\n",
    "plt.imshow(image.squeeze(0).numpy(), cmap = 'gray')\n",
    "plt.title('Label : %s' %label)\n",
    "plt.show()"
   ],
   "metadata": {
    "collapsed": false,
    "ExecuteTime": {
     "end_time": "2024-04-21T14:43:14.614455Z",
     "start_time": "2024-04-21T14:43:14.530237Z"
    }
   },
   "id": "205d99808d71f6ff",
   "execution_count": 52
  },
  {
   "cell_type": "markdown",
   "source": [
    "# 미니 배치 구성하기"
   ],
   "metadata": {
    "collapsed": false
   },
   "id": "38b522996b510fde"
  },
  {
   "cell_type": "code",
   "outputs": [
    {
     "name": "stdout",
     "output_type": "stream",
     "text": [
      "name            | type                      | size\n",
      "Num of Batch    |                           | 1200\n",
      "first_batch     | <class 'list'>            | 2\n",
      "first_batch[0]  | <class 'torch.Tensor'>    | torch.Size([50, 1, 28, 28])\n",
      "first_batch[1]  | <class 'torch.Tensor'>    | torch.Size([50])\n"
     ]
    }
   ],
   "source": [
    "train_loader = torch.utils.data.DataLoader(dataset=train_data, batch_size=batch_size, shuffle=True)\n",
    "test_loader = torch.utils.data.DataLoader(dataset=test_data, batch_size=batch_size, shuffle=True)\n",
    "\n",
    "first_batch = train_loader.__iter__().__next__()\n",
    "\n",
    "print('{:15s} | {:<25s} | {}'.format('name','type','size'))\n",
    "print('{:15s} | {:<25s} | {}'.format('Num of Batch','',len(train_loader)))\n",
    "print('{:15s} | {:<25s} | {}'.format('first_batch', str(type(first_batch)), len(first_batch)))\n",
    "print('{:15s} | {:<25s} | {}'.format('first_batch[0]',str(type(first_batch[0])),first_batch[0].shape))\n",
    "print('{:15s} | {:<25s} | {}'.format('first_batch[1]',str(type(first_batch[1])),first_batch[1].shape))"
   ],
   "metadata": {
    "collapsed": false,
    "ExecuteTime": {
     "end_time": "2024-04-21T14:43:16.858954Z",
     "start_time": "2024-04-21T14:43:16.837178Z"
    }
   },
   "id": "9db815d603962b2e",
   "execution_count": 53
  },
  {
   "cell_type": "markdown",
   "source": [
    "# CNN 구조 설계하기"
   ],
   "metadata": {
    "collapsed": false
   },
   "id": "7f77b33dea810608"
  },
  {
   "cell_type": "code",
   "outputs": [],
   "source": [
    "class CNN(nn.Module):\n",
    "    def __init__(self): #모델에서 사용되는 가중치를 정의\n",
    "        super(CNN, self).__init__()\n",
    "        self.conv1 = nn.Conv2d(1, 32, 3, 1)\n",
    "        self.conv2 = nn.Conv2d(32, 64, 3, 1)\n",
    "        self.dropout1 = nn.Dropout2d(0.25)\n",
    "        self.dropout2 = nn.Dropout2d(0.5)\n",
    "        self.fc1 = nn.Linear(9216, 128)\n",
    "        self.fc2 = nn.Linear(128, 10)\n",
    "    def forward(self, x):\n",
    "        x = self.conv1(x)\n",
    "        x = F.relu(x)\n",
    "        x = self.conv2(x)\n",
    "        x = F.relu(x)\n",
    "        X = F.max_pool2d(x, 2)\n",
    "        x = self.dropout1(X)\n",
    "        x = torch.flatten(x, 1)\n",
    "        x = self.fc1(x)\n",
    "        x = F.relu(x)\n",
    "        x - self.dropout2(x)\n",
    "        x = self.fc2(x)\n",
    "        output = F.log_softmax(x, dim=1)\n",
    "        return output"
   ],
   "metadata": {
    "collapsed": false,
    "ExecuteTime": {
     "end_time": "2024-04-21T14:43:19.054160Z",
     "start_time": "2024-04-21T14:43:19.046544Z"
    }
   },
   "id": "ef11cfa3d9ec9b24",
   "execution_count": 54
  },
  {
   "cell_type": "markdown",
   "source": [
    "# Optimizer 및 손실 함수 정의"
   ],
   "metadata": {
    "collapsed": false
   },
   "id": "bd8f3a9537b883fd"
  },
  {
   "cell_type": "code",
   "outputs": [],
   "source": [
    "model = CNN().to(device)\n",
    "optimizer = optim.Adam(model.parameters(), lr = learning_rate)\n",
    "criterion = nn.CrossEntropyLoss()"
   ],
   "metadata": {
    "collapsed": false,
    "ExecuteTime": {
     "end_time": "2024-04-21T14:43:21.415905Z",
     "start_time": "2024-04-21T14:43:21.392440Z"
    }
   },
   "id": "e71b40959039589c",
   "execution_count": 55
  },
  {
   "cell_type": "markdown",
   "source": [
    "# 설계한 CNN 모형 확인하기"
   ],
   "metadata": {
    "collapsed": false
   },
   "id": "7f6c3afaaee1858a"
  },
  {
   "cell_type": "code",
   "outputs": [
    {
     "name": "stdout",
     "output_type": "stream",
     "text": [
      "CNN(\n",
      "  (conv1): Conv2d(1, 32, kernel_size=(3, 3), stride=(1, 1))\n",
      "  (conv2): Conv2d(32, 64, kernel_size=(3, 3), stride=(1, 1))\n",
      "  (dropout1): Dropout2d(p=0.25, inplace=False)\n",
      "  (dropout2): Dropout2d(p=0.5, inplace=False)\n",
      "  (fc1): Linear(in_features=9216, out_features=128, bias=True)\n",
      "  (fc2): Linear(in_features=128, out_features=10, bias=True)\n",
      ")\n"
     ]
    }
   ],
   "source": [
    "print(model)"
   ],
   "metadata": {
    "collapsed": false,
    "ExecuteTime": {
     "end_time": "2024-04-21T14:43:23.198116Z",
     "start_time": "2024-04-21T14:43:23.187539Z"
    }
   },
   "id": "4a7e4b0304b57da4",
   "execution_count": 56
  },
  {
   "cell_type": "markdown",
   "source": [
    "# 모델 학습"
   ],
   "metadata": {
    "collapsed": false
   },
   "id": "f770daa0ce738999"
  },
  {
   "cell_type": "code",
   "outputs": [
    {
     "name": "stdout",
     "output_type": "stream",
     "text": [
      "Train Step: 0\tLoss: 2.310\n",
      "Train Step: 1000\tLoss: 0.276\n",
      "Train Step: 2000\tLoss: 0.039\n",
      "Train Step: 3000\tLoss: 0.193\n",
      "Train Step: 4000\tLoss: 0.038\n",
      "Train Step: 5000\tLoss: 0.024\n",
      "Train Step: 6000\tLoss: 0.087\n",
      "Train Step: 7000\tLoss: 0.020\n",
      "Train Step: 8000\tLoss: 0.016\n",
      "Train Step: 9000\tLoss: 0.003\n",
      "Train Step: 10000\tLoss: 0.006\n",
      "Train Step: 11000\tLoss: 0.025\n",
      "Train Step: 12000\tLoss: 0.004\n",
      "Train Step: 13000\tLoss: 0.012\n",
      "Train Step: 14000\tLoss: 0.100\n",
      "Train Step: 15000\tLoss: 0.000\n",
      "Train Step: 16000\tLoss: 0.000\n",
      "Train Step: 17000\tLoss: 0.009\n"
     ]
    }
   ],
   "source": [
    "model.train()\n",
    "i = 0\n",
    "for epoch in range(epoch_num):\n",
    "    for data, target in train_loader:\n",
    "        data = data.to(device)\n",
    "        target = target.to(device)\n",
    "        optimizer.zero_grad()\n",
    "        output = model(data)\n",
    "        loss = criterion(output, target)\n",
    "        loss.backward()\n",
    "        optimizer.step()\n",
    "        if i % 1000 == 0:\n",
    "            print('Train Step: {}\\tLoss: {:.3f}'.format(i, loss.item()))\n",
    "        i += 1"
   ],
   "metadata": {
    "collapsed": false,
    "ExecuteTime": {
     "end_time": "2024-04-21T14:44:52.706818Z",
     "start_time": "2024-04-21T14:43:25.109173Z"
    }
   },
   "id": "387e0c43fa3ac46a",
   "execution_count": 57
  },
  {
   "cell_type": "markdown",
   "source": [
    "# 모델 평가"
   ],
   "metadata": {
    "collapsed": false
   },
   "id": "6d7acbe574f6fb21"
  },
  {
   "cell_type": "code",
   "outputs": [
    {
     "name": "stdout",
     "output_type": "stream",
     "text": [
      "Test set: Accuracy: 98.91%\n"
     ]
    }
   ],
   "source": [
    "model.eval()\n",
    "correct = 0\n",
    "\n",
    "for data, target in test_loader:\n",
    "    data = data.to(device)\n",
    "    target = target.to(device)\n",
    "    output = model(data)\n",
    "    prediction = output.data.max(1)[1]\n",
    "    correct += prediction.eq(target.data).sum()\n",
    "    \n",
    "print('Test set: Accuracy: {:.2f}%'.format(100 * correct / len(test_loader.dataset)))"
   ],
   "metadata": {
    "collapsed": false,
    "ExecuteTime": {
     "end_time": "2024-04-21T12:46:46.490625Z",
     "start_time": "2024-04-21T12:46:45.685032Z"
    }
   },
   "id": "4f8ea2fc690d50c3",
   "execution_count": 47
  }
 ],
 "metadata": {
  "kernelspec": {
   "display_name": "Python 3",
   "language": "python",
   "name": "python3"
  },
  "language_info": {
   "codemirror_mode": {
    "name": "ipython",
    "version": 2
   },
   "file_extension": ".py",
   "mimetype": "text/x-python",
   "name": "python",
   "nbconvert_exporter": "python",
   "pygments_lexer": "ipython2",
   "version": "2.7.6"
  }
 },
 "nbformat": 4,
 "nbformat_minor": 5
}

{
 "cells": [
  {
   "cell_type": "markdown",
   "metadata": {
    "id": "XjTc5n2flYUu"
   },
   "source": [
    "# 특성 공학(Feature Engineering)"
   ]
  },
  {
   "cell_type": "markdown",
   "metadata": {},
   "source": [
    "- 차원 축소(Dimension Reduction)\n",
    "\n",
    "    협의적으로는 아래서 설명하는 특성 추출을 차원 축소와 동일한 개념으로 이해\n",
    "    \n",
    "    광의적으로는 아래서 설명하는 두가지 기법을 아우르는 상위 개념\n",
    "    \n",
    "    - 특성 선정(Feature Selection)\n",
    "        - 특성 랭킹(Feature Ranking) 또는 특성 중요도(Feature Importance)에 따라 선정\n",
    "        - 분석가의 사전 배경 지식을 이용하거나, 랜덤 선정 및 성능 측정을 반복하는 방법 사용\n",
    "    - 특성 추출(Feature Extraction)\n",
    "        - 특성을 단순히 선택하는 것이 아니라 특성들의 조합으로 새로운 특성을 생성\n",
    "    - 스케일링(Scaling)\n",
    "        - 변수의 분포가 편향되어 있을 경우, 변수 간의 관계가 잘 드러나지 않는 경우 범위 변환\n",
    "        - 전체 값에 로그나 제곱루트 적용하는 방법 등\n",
    "    - 변형(Transform)\n",
    "        - 기존 존재하는 변수의 성질을 이용해 다른 변수를 만드는 방법\n",
    "        - 날짜별 판매 데이터에 주말 여부를 추가하는 등, 분석가에 경험에 따라 추가 또는 변형\n",
    "    - 비닝(Binning)\n",
    "        - 연속형 변수를 범주형 변수로 변환\n",
    "        - 33살, 47살 -> 30대, 40대\n",
    "    - 더미(Dummy)\n",
    "        - 범주형 변수를 연속형 변수로 변환 가능\n",
    "        - 기존 특성이나 특성의 조합을 규칙에 따라 수치화하여 Dummy Data로 추가"
   ]
  },
  {
   "cell_type": "markdown",
   "metadata": {
    "id": "fZwhQU2l8tI6"
   },
   "source": [
    "## 데이터 준비"
   ]
  },
  {
   "cell_type": "code",
   "execution_count": 29,
   "metadata": {
    "id": "3kjaTfOqEVwY"
   },
   "outputs": [],
   "source": [
    "import pandas as pd"
   ]
  },
  {
   "cell_type": "markdown",
   "metadata": {},
   "source": [
    "### 붙여넣기 귀찮으니 pandas로..."
   ]
  },
  {
   "cell_type": "code",
   "execution_count": 30,
   "metadata": {
    "colab": {
     "base_uri": "https://localhost:8080/"
    },
    "id": "8qmTS1RzKRKT",
    "outputId": "25aa3409-3306-4751-fba7-bd3bcc9e3cad"
   },
   "outputs": [
    {
     "name": "stdout",
     "output_type": "stream",
     "text": [
      "    length   height   width\n",
      "0      8.4     2.11    1.41\n",
      "1     13.7     3.53    2.00\n",
      "2     15.0     3.82    2.43\n",
      "3     16.2     4.59    2.63\n",
      "4     17.4     4.59    2.94\n",
      "5     18.0     5.22    3.32\n",
      "6     18.7     5.20    3.12\n",
      "7     19.0     5.64    3.05\n",
      "8     19.6     5.14    3.04\n",
      "9     20.0     5.08    2.77\n",
      "10    21.0     5.69    3.56\n",
      "11    21.0     5.92    3.31\n",
      "12    21.0     5.69    3.67\n",
      "13    21.3     6.38    3.53\n",
      "14    22.0     6.11    3.41\n",
      "15    22.0     5.64    3.52\n",
      "16    22.0     6.11    3.52\n",
      "17    22.0     5.88    3.52\n",
      "18    22.0     5.52    4.00\n",
      "19    22.5     5.86    3.62\n",
      "20    22.5     6.79    3.62\n",
      "21    22.7     5.95    3.63\n",
      "22    23.0     5.22    3.63\n",
      "23    23.5     6.28    3.72\n",
      "24    24.0     7.29    3.72\n",
      "25    24.0     6.38    3.82\n",
      "26    24.6     6.73    4.17\n",
      "27    25.0     6.44    3.68\n",
      "28    25.6     6.56    4.24\n",
      "29    26.5     7.17    4.14\n",
      "30    27.3     8.32    5.14\n",
      "31    27.5     7.17    4.34\n",
      "32    27.5     7.05    4.34\n",
      "33    27.5     7.28    4.57\n",
      "34    28.0     7.82    4.20\n",
      "35    28.7     7.59    4.64\n",
      "36    30.0     7.62    4.77\n",
      "37    32.8    10.03    6.02\n",
      "38    34.5    10.26    6.39\n",
      "39    35.0    11.49    7.80\n",
      "40    36.5    10.88    6.86\n",
      "41    36.0    10.61    6.74\n",
      "42    37.0    10.84    6.26\n",
      "43    37.0    10.57    6.37\n",
      "44    39.0    11.14    7.49\n",
      "45    39.0    11.14    6.00\n",
      "46    39.0    12.43    7.35\n",
      "47    40.0    11.93    7.11\n",
      "48    40.0    11.73    7.22\n",
      "49    40.0    12.38    7.46\n",
      "50    40.0    11.14    6.63\n",
      "51    42.0    12.80    6.87\n",
      "52    43.0    11.93    7.28\n",
      "53    43.0    12.51    7.42\n",
      "54    43.5    12.60    8.14\n",
      "55    44.0    12.49    7.60\n"
     ]
    }
   ],
   "source": [
    "df = pd.read_csv('https://bit.ly/perch_csv_data')\n",
    "print(df)"
   ]
  },
  {
   "cell_type": "code",
   "execution_count": 31,
   "metadata": {},
   "outputs": [
    {
     "name": "stdout",
     "output_type": "stream",
     "text": [
      "[[ 8.4   2.11  1.41]\n",
      " [13.7   3.53  2.  ]\n",
      " [15.    3.82  2.43]\n",
      " [16.2   4.59  2.63]\n",
      " [17.4   4.59  2.94]\n",
      " [18.    5.22  3.32]\n",
      " [18.7   5.2   3.12]\n",
      " [19.    5.64  3.05]\n",
      " [19.6   5.14  3.04]\n",
      " [20.    5.08  2.77]\n",
      " [21.    5.69  3.56]\n",
      " [21.    5.92  3.31]\n",
      " [21.    5.69  3.67]\n",
      " [21.3   6.38  3.53]\n",
      " [22.    6.11  3.41]\n",
      " [22.    5.64  3.52]\n",
      " [22.    6.11  3.52]\n",
      " [22.    5.88  3.52]\n",
      " [22.    5.52  4.  ]\n",
      " [22.5   5.86  3.62]\n",
      " [22.5   6.79  3.62]\n",
      " [22.7   5.95  3.63]\n",
      " [23.    5.22  3.63]\n",
      " [23.5   6.28  3.72]\n",
      " [24.    7.29  3.72]\n",
      " [24.    6.38  3.82]\n",
      " [24.6   6.73  4.17]\n",
      " [25.    6.44  3.68]\n",
      " [25.6   6.56  4.24]\n",
      " [26.5   7.17  4.14]\n",
      " [27.3   8.32  5.14]\n",
      " [27.5   7.17  4.34]\n",
      " [27.5   7.05  4.34]\n",
      " [27.5   7.28  4.57]\n",
      " [28.    7.82  4.2 ]\n",
      " [28.7   7.59  4.64]\n",
      " [30.    7.62  4.77]\n",
      " [32.8  10.03  6.02]\n",
      " [34.5  10.26  6.39]\n",
      " [35.   11.49  7.8 ]\n",
      " [36.5  10.88  6.86]\n",
      " [36.   10.61  6.74]\n",
      " [37.   10.84  6.26]\n",
      " [37.   10.57  6.37]\n",
      " [39.   11.14  7.49]\n",
      " [39.   11.14  6.  ]\n",
      " [39.   12.43  7.35]\n",
      " [40.   11.93  7.11]\n",
      " [40.   11.73  7.22]\n",
      " [40.   12.38  7.46]\n",
      " [40.   11.14  6.63]\n",
      " [42.   12.8   6.87]\n",
      " [43.   11.93  7.28]\n",
      " [43.   12.51  7.42]\n",
      " [43.5  12.6   8.14]\n",
      " [44.   12.49  7.6 ]]\n"
     ]
    }
   ],
   "source": [
    "perch_full = df.to_numpy()\n",
    "print(perch_full)\n",
    "# {length}, {height}, {width}"
   ]
  },
  {
   "cell_type": "code",
   "execution_count": 32,
   "metadata": {
    "id": "PsRC7rvE9SbL"
   },
   "outputs": [],
   "source": [
    "import numpy as np\n",
    "\n",
    "# target <- {weight}\n",
    "perch_weight = np.array(\n",
    "    [5.9, 32.0, 40.0, 51.5, 70.0, 100.0, 78.0, 80.0, 85.0, 85.0, \n",
    "     110.0, 115.0, 125.0, 130.0, 120.0, 120.0, 130.0, 135.0, 110.0, \n",
    "     130.0, 150.0, 145.0, 150.0, 170.0, 225.0, 145.0, 188.0, 180.0, \n",
    "     197.0, 218.0, 300.0, 260.0, 265.0, 250.0, 250.0, 300.0, 320.0, \n",
    "     514.0, 556.0, 840.0, 685.0, 700.0, 700.0, 690.0, 900.0, 650.0, \n",
    "     820.0, 850.0, 900.0, 1015.0, 820.0, 1100.0, 1000.0, 1100.0, \n",
    "     1000.0, 1000.0]\n",
    "     )"
   ]
  },
  {
   "cell_type": "code",
   "execution_count": 33,
   "metadata": {
    "id": "cRKkoWoZ9J0m"
   },
   "outputs": [],
   "source": [
    "from sklearn.model_selection import train_test_split\n",
    "\n",
    "train_input, test_input, train_target, test_target = train_test_split(perch_full, perch_weight, random_state=42)"
   ]
  },
  {
   "cell_type": "markdown",
   "metadata": {
    "id": "y5uMFE_8V1tx"
   },
   "source": [
    "## 사이킷런의 변환기 (특성 공학을 위한 클래스)"
   ]
  },
  {
   "cell_type": "code",
   "execution_count": 34,
   "metadata": {
    "id": "EclugdXmSs-L"
   },
   "outputs": [],
   "source": [
    "from sklearn.preprocessing import PolynomialFeatures"
   ]
  },
  {
   "cell_type": "markdown",
   "metadata": {},
   "source": [
    "### PolinomialFeatures class는 default로 각 특성의 제곱항, 두 특성끼리의 곱항, 1을 추가\n",
    "https://scikit-learn.org/stable/modules/generated/sklearn.preprocessing.PolynomialFeatures.html"
   ]
  },
  {
   "cell_type": "code",
   "execution_count": 35,
   "metadata": {
    "colab": {
     "base_uri": "https://localhost:8080/"
    },
    "id": "V5is7cZhKbPU",
    "outputId": "51fa6feb-30d4-4c7e-b89d-a2ec8033834b"
   },
   "outputs": [
    {
     "name": "stdout",
     "output_type": "stream",
     "text": [
      "[[  1.  20.   3. 400.  60.   9.]]\n"
     ]
    }
   ],
   "source": [
    "poly = PolynomialFeatures()\n",
    "poly.fit([[20, 3]])\n",
    "print(poly.transform([[20, 3]]))"
   ]
  },
  {
   "cell_type": "code",
   "execution_count": 36,
   "metadata": {},
   "outputs": [
    {
     "name": "stdout",
     "output_type": "stream",
     "text": [
      "[[ 1.  2.  3.  4.  5.  4.  6.  8. 10.  9. 12. 15. 16. 20. 25.]]\n"
     ]
    }
   ],
   "source": [
    "poly.fit([[2, 3, 4, 5]])\n",
    "print(poly.transform([[2, 3, 4, 5]]))"
   ]
  },
  {
   "cell_type": "markdown",
   "metadata": {},
   "source": [
    "#### 1은 뺍시다."
   ]
  },
  {
   "cell_type": "code",
   "execution_count": 37,
   "metadata": {
    "colab": {
     "base_uri": "https://localhost:8080/"
    },
    "id": "bKXkK0oJc4nG",
    "outputId": "298cbbc5-33f8-4957-a7b5-d8eb2b44b2b7"
   },
   "outputs": [
    {
     "name": "stdout",
     "output_type": "stream",
     "text": [
      "[[2. 3. 4. 6. 9.]]\n"
     ]
    }
   ],
   "source": [
    "poly = PolynomialFeatures(include_bias=False)\n",
    "poly.fit([[2, 3]])\n",
    "print(poly.transform([[2, 3]]))"
   ]
  },
  {
   "cell_type": "code",
   "execution_count": 38,
   "metadata": {},
   "outputs": [
    {
     "data": {
      "text/plain": [
       "array([[1.96000000e+01, 5.14000000e+00, 3.04000000e+00, 3.84160000e+02,\n",
       "        1.00744000e+02, 5.95840000e+01, 2.64196000e+01, 1.56256000e+01,\n",
       "        9.24160000e+00, 7.52953600e+03, 1.97458240e+03, 1.16784640e+03,\n",
       "        5.17824160e+02, 3.06261760e+02, 1.81135360e+02, 1.35796744e+02,\n",
       "        8.03155840e+01, 4.75018240e+01, 2.80944640e+01, 1.47578906e+05,\n",
       "        3.87018150e+04, 2.28897894e+04, 1.01493535e+04, 6.00273050e+03,\n",
       "        3.55025306e+03, 2.66161618e+03, 1.57418545e+03, 9.31035750e+02,\n",
       "        5.50651494e+02, 6.97995264e+02, 4.12822102e+02, 2.44159375e+02,\n",
       "        1.44405545e+02, 8.54071706e+01],\n",
       "       [2.20000000e+01, 5.88000000e+00, 3.52000000e+00, 4.84000000e+02,\n",
       "        1.29360000e+02, 7.74400000e+01, 3.45744000e+01, 2.06976000e+01,\n",
       "        1.23904000e+01, 1.06480000e+04, 2.84592000e+03, 1.70368000e+03,\n",
       "        7.60636800e+02, 4.55347200e+02, 2.72588800e+02, 2.03297472e+02,\n",
       "        1.21701888e+02, 7.28555520e+01, 4.36142080e+01, 2.34256000e+05,\n",
       "        6.26102400e+04, 3.74809600e+04, 1.67340096e+04, 1.00176384e+04,\n",
       "        5.99695360e+03, 4.47254438e+03, 2.67744154e+03, 1.60282214e+03,\n",
       "        9.59512576e+02, 1.19538914e+03, 7.15607101e+02, 4.28390646e+02,\n",
       "        2.56451543e+02, 1.53522012e+02],\n",
       "       [1.87000000e+01, 5.20000000e+00, 3.12000000e+00, 3.49690000e+02,\n",
       "        9.72400000e+01, 5.83440000e+01, 2.70400000e+01, 1.62240000e+01,\n",
       "        9.73440000e+00, 6.53920300e+03, 1.81838800e+03, 1.09103280e+03,\n",
       "        5.05648000e+02, 3.03388800e+02, 1.82033280e+02, 1.40608000e+02,\n",
       "        8.43648000e+01, 5.06188800e+01, 3.03713280e+01, 1.22283096e+05,\n",
       "        3.40038556e+04, 2.04023134e+04, 9.45561760e+03, 5.67337056e+03,\n",
       "        3.40402234e+03, 2.62936960e+03, 1.57762176e+03, 9.46573056e+02,\n",
       "        5.67943834e+02, 7.31161600e+02, 4.38696960e+02, 2.63218176e+02,\n",
       "        1.57930906e+02, 9.47585434e+01],\n",
       "       [1.74000000e+01, 4.59000000e+00, 2.94000000e+00, 3.02760000e+02,\n",
       "        7.98660000e+01, 5.11560000e+01, 2.10681000e+01, 1.34946000e+01,\n",
       "        8.64360000e+00, 5.26802400e+03, 1.38966840e+03, 8.90114400e+02,\n",
       "        3.66584940e+02, 2.34806040e+02, 1.50398640e+02, 9.67025790e+01,\n",
       "        6.19402140e+01, 3.96741240e+01, 2.54121840e+01, 9.16636176e+04,\n",
       "        2.41802302e+04, 1.54879906e+04, 6.37857796e+03, 4.08562510e+03,\n",
       "        2.61693634e+03, 1.68262487e+03, 1.07775972e+03, 6.90329758e+02,\n",
       "        4.42172002e+02, 4.43864838e+02, 2.84305582e+02, 1.82104229e+02,\n",
       "        1.16641925e+02, 7.47118210e+01],\n",
       "       [3.60000000e+01, 1.06100000e+01, 6.74000000e+00, 1.29600000e+03,\n",
       "        3.81960000e+02, 2.42640000e+02, 1.12572100e+02, 7.15114000e+01,\n",
       "        4.54276000e+01, 4.66560000e+04, 1.37505600e+04, 8.73504000e+03,\n",
       "        4.05259560e+03, 2.57441040e+03, 1.63539360e+03, 1.19438998e+03,\n",
       "        7.58735954e+02, 4.81986836e+02, 3.06182024e+02, 1.67961600e+06,\n",
       "        4.95020160e+05, 3.14461440e+05, 1.45893442e+05, 9.26787744e+04,\n",
       "        5.88741696e+04, 4.29980393e+04, 2.73144943e+04, 1.73515261e+04,\n",
       "        1.10225529e+04, 1.26724777e+04, 8.05018847e+03, 5.11388033e+03,\n",
       "        3.24859127e+03, 2.06366684e+03]])"
      ]
     },
     "execution_count": 38,
     "metadata": {},
     "output_type": "execute_result"
    }
   ],
   "source": [
    "train_poly[:5]"
   ]
  },
  {
   "cell_type": "code",
   "execution_count": 39,
   "metadata": {
    "id": "__kE6eJdNZfm"
   },
   "outputs": [],
   "source": [
    "poly = PolynomialFeatures(include_bias=False)\n",
    "\n",
    "poly.fit(train_input)\n",
    "train_poly = poly.transform(train_input)"
   ]
  },
  {
   "cell_type": "code",
   "execution_count": 40,
   "metadata": {
    "colab": {
     "base_uri": "https://localhost:8080/"
    },
    "id": "2a_lmkKle4kF",
    "outputId": "e277109c-dc79-49c3-bca2-bd32a19d2ebb"
   },
   "outputs": [
    {
     "name": "stdout",
     "output_type": "stream",
     "text": [
      "(42, 9)\n"
     ]
    }
   ],
   "source": [
    "print(train_poly.shape)"
   ]
  },
  {
   "cell_type": "markdown",
   "metadata": {},
   "source": [
    "### PolynomialFeatures class에서는 특성들이 어떻게 만들어졌는지 확인할 수 있는 메서드를 제공합니다."
   ]
  },
  {
   "cell_type": "code",
   "execution_count": 41,
   "metadata": {
    "colab": {
     "base_uri": "https://localhost:8080/"
    },
    "id": "X6GUwfXTfKbl",
    "outputId": "d733cfd1-e13e-4652-ec50-48ffd0f90034"
   },
   "outputs": [
    {
     "data": {
      "text/plain": [
       "array(['x0', 'x1', 'x2', 'x0^2', 'x0 x1', 'x0 x2', 'x1^2', 'x1 x2',\n",
       "       'x2^2'], dtype=object)"
      ]
     },
     "execution_count": 41,
     "metadata": {},
     "output_type": "execute_result"
    }
   ],
   "source": [
    "poly.get_feature_names_out()"
   ]
  },
  {
   "cell_type": "code",
   "execution_count": 42,
   "metadata": {
    "id": "DJMPxe2mgbOo"
   },
   "outputs": [],
   "source": [
    "test_poly = poly.transform(test_input)"
   ]
  },
  {
   "cell_type": "markdown",
   "metadata": {
    "id": "PdDAslHzNk3H"
   },
   "source": [
    "## 다중 회귀 모델 훈련하기"
   ]
  },
  {
   "cell_type": "code",
   "execution_count": 43,
   "metadata": {
    "colab": {
     "base_uri": "https://localhost:8080/"
    },
    "id": "E9ygy-8WOvIP",
    "outputId": "5c2bdda2-f603-4c50-e94a-2f196ab7b793"
   },
   "outputs": [
    {
     "name": "stdout",
     "output_type": "stream",
     "text": [
      "0.9903183436982125\n"
     ]
    }
   ],
   "source": [
    "from sklearn.linear_model import LinearRegression\n",
    "\n",
    "lr = LinearRegression()\n",
    "lr.fit(train_poly, train_target)\n",
    "print(lr.score(train_poly, train_target))"
   ]
  },
  {
   "cell_type": "code",
   "execution_count": 44,
   "metadata": {
    "colab": {
     "base_uri": "https://localhost:8080/"
    },
    "id": "GKKyfFcAd7zm",
    "outputId": "4ee7e6ea-7126-4941-ac5f-c39575ac8642"
   },
   "outputs": [
    {
     "name": "stdout",
     "output_type": "stream",
     "text": [
      "0.9714559911594223\n"
     ]
    }
   ],
   "source": [
    "print(lr.score(test_poly, test_target))"
   ]
  },
  {
   "cell_type": "code",
   "execution_count": 55,
   "metadata": {
    "id": "2fDt5mrReMwU"
   },
   "outputs": [],
   "source": [
    "poly = PolynomialFeatures(degree=5, include_bias=False)\n",
    "\n",
    "poly.fit(train_input)\n",
    "train_poly = poly.transform(train_input)\n",
    "test_poly = poly.transform(test_input)"
   ]
  },
  {
   "cell_type": "code",
   "execution_count": 56,
   "metadata": {},
   "outputs": [
    {
     "data": {
      "text/plain": [
       "array(['x0', 'x1', 'x2', ..., 'x1^2 x2^98', 'x1 x2^99', 'x2^100'],\n",
       "      dtype=object)"
      ]
     },
     "execution_count": 56,
     "metadata": {},
     "output_type": "execute_result"
    }
   ],
   "source": [
    "poly.get_feature_names_out()"
   ]
  },
  {
   "cell_type": "code",
   "execution_count": 57,
   "metadata": {
    "colab": {
     "base_uri": "https://localhost:8080/"
    },
    "id": "hcM8R4VHSzR8",
    "outputId": "e00c0862-0252-4969-98e5-7f71c540aaa4"
   },
   "outputs": [
    {
     "name": "stdout",
     "output_type": "stream",
     "text": [
      "(42, 176850)\n"
     ]
    }
   ],
   "source": [
    "print(train_poly.shape)"
   ]
  },
  {
   "cell_type": "code",
   "execution_count": 58,
   "metadata": {
    "colab": {
     "base_uri": "https://localhost:8080/"
    },
    "id": "UffVFVTGP8xj",
    "outputId": "1ed2680b-460d-4e94-c2a4-9dfa498e9127"
   },
   "outputs": [
    {
     "name": "stdout",
     "output_type": "stream",
     "text": [
      "0.9225840307435733\n"
     ]
    }
   ],
   "source": [
    "lr.fit(train_poly, train_target)\n",
    "print(lr.score(train_poly, train_target))"
   ]
  },
  {
   "cell_type": "code",
   "execution_count": 59,
   "metadata": {
    "colab": {
     "base_uri": "https://localhost:8080/"
    },
    "id": "GtITdlYFg7AY",
    "outputId": "32e51885-a743-4c29-b1fb-aa55ae744fc1"
   },
   "outputs": [
    {
     "name": "stdout",
     "output_type": "stream",
     "text": [
      "-3795024059892440.5\n"
     ]
    }
   ],
   "source": [
    "print(lr.score(test_poly, test_target))"
   ]
  }
 ],
 "metadata": {
  "colab": {
   "collapsed_sections": [],
   "name": "3-3 특성 공학과 규제.ipynb",
   "provenance": []
  },
  "kernelspec": {
   "display_name": "Python 3.9.12",
   "language": "python",
   "name": "python3"
  },
  "language_info": {
   "codemirror_mode": {
    "name": "ipython",
    "version": 3
   },
   "file_extension": ".py",
   "mimetype": "text/x-python",
   "name": "python",
   "nbconvert_exporter": "python",
   "pygments_lexer": "ipython3",
   "version": "3.9.12"
  },
  "vscode": {
   "interpreter": {
    "hash": "944403805d0ad9e60724c31aa78bfb982f0a917c2fd50cf0dcd52b6ced6d4d77"
   }
  }
 },
 "nbformat": 4,
 "nbformat_minor": 4
}
